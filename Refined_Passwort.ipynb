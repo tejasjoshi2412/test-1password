{
 "cells": [
  {
   "cell_type": "markdown",
   "id": "ffc2b8c6",
   "metadata": {},
   "source": [
    "### Assumptions\n",
    "* There are some dates in the past and in the future\n",
    "\n",
    "* The dates in the past are for 1979-03-01, I 'm assuming this is a date entry mistake as the data is way back in the past.\n",
    "\n",
    "* For the future dates I'm assuming its a part of the hazard model or maybe predictions that have been made with respect to the churn date.\n",
    "\n",
    "* There are some null values in the redeemed columns so we are assuming they used the coupon code if the account creation date falls between the campaign duration.\n",
    "\n",
    "* We are also assuming that every account or user id that has been created after 2022-02-28 ????\n",
    "\n",
    "* Also I am assumimg that the campaign we ran was open to all people did see the coupon code but did no choose to signup using it, which will help us detemining the conversion_rate\n"
   ]
  },
  {
   "cell_type": "code",
   "execution_count": 1,
   "id": "f0f1cb6f",
   "metadata": {},
   "outputs": [],
   "source": [
    "import pandas as pd\n",
    "import numpy as np \n",
    "import seaborn as sns\n",
    "import matplotlib.pyplot as plt\n",
    "%matplotlib inline\n",
    "from datetime import datetime\n",
    "from datetime import date"
   ]
  },
  {
   "cell_type": "code",
   "execution_count": 2,
   "id": "0f0ed5f0",
   "metadata": {},
   "outputs": [
    {
     "data": {
      "text/html": [
       "<div>\n",
       "<style scoped>\n",
       "    .dataframe tbody tr th:only-of-type {\n",
       "        vertical-align: middle;\n",
       "    }\n",
       "\n",
       "    .dataframe tbody tr th {\n",
       "        vertical-align: top;\n",
       "    }\n",
       "\n",
       "    .dataframe thead th {\n",
       "        text-align: right;\n",
       "    }\n",
       "</style>\n",
       "<table border=\"1\" class=\"dataframe\">\n",
       "  <thead>\n",
       "    <tr style=\"text-align: right;\">\n",
       "      <th></th>\n",
       "      <th>account_id</th>\n",
       "      <th>user_id</th>\n",
       "      <th>redeemed</th>\n",
       "      <th>date_created</th>\n",
       "      <th>date_churned</th>\n",
       "    </tr>\n",
       "  </thead>\n",
       "  <tbody>\n",
       "    <tr>\n",
       "      <th>0</th>\n",
       "      <td>X547595</td>\n",
       "      <td>R6G74BVZGN</td>\n",
       "      <td>N</td>\n",
       "      <td>2022-02-14</td>\n",
       "      <td>2022-11-14</td>\n",
       "    </tr>\n",
       "    <tr>\n",
       "      <th>1</th>\n",
       "      <td>X704540</td>\n",
       "      <td>NOQ41G93C5</td>\n",
       "      <td>N</td>\n",
       "      <td>2022-02-14</td>\n",
       "      <td>2022-09-14</td>\n",
       "    </tr>\n",
       "    <tr>\n",
       "      <th>2</th>\n",
       "      <td>X704540</td>\n",
       "      <td>5RYIMD2OCJ</td>\n",
       "      <td>N</td>\n",
       "      <td>2022-02-14</td>\n",
       "      <td>2022-09-14</td>\n",
       "    </tr>\n",
       "    <tr>\n",
       "      <th>3</th>\n",
       "      <td>X704540</td>\n",
       "      <td>NL77S1PVEU</td>\n",
       "      <td>N</td>\n",
       "      <td>2022-02-14</td>\n",
       "      <td>2022-09-14</td>\n",
       "    </tr>\n",
       "    <tr>\n",
       "      <th>4</th>\n",
       "      <td>X704540</td>\n",
       "      <td>RMV8K34NXZ</td>\n",
       "      <td>N</td>\n",
       "      <td>2022-02-14</td>\n",
       "      <td>2022-09-14</td>\n",
       "    </tr>\n",
       "  </tbody>\n",
       "</table>\n",
       "</div>"
      ],
      "text/plain": [
       "  account_id     user_id redeemed date_created date_churned\n",
       "0    X547595  R6G74BVZGN        N   2022-02-14   2022-11-14\n",
       "1    X704540  NOQ41G93C5        N   2022-02-14   2022-09-14\n",
       "2    X704540  5RYIMD2OCJ        N   2022-02-14   2022-09-14\n",
       "3    X704540  NL77S1PVEU        N   2022-02-14   2022-09-14\n",
       "4    X704540  RMV8K34NXZ        N   2022-02-14   2022-09-14"
      ]
     },
     "execution_count": 2,
     "metadata": {},
     "output_type": "execute_result"
    }
   ],
   "source": [
    "data = pd.read_csv('marketing_analyst_test.csv')\n",
    "data.head()"
   ]
  },
  {
   "cell_type": "code",
   "execution_count": 3,
   "id": "a85e4e62",
   "metadata": {},
   "outputs": [
    {
     "data": {
      "text/html": [
       "<div>\n",
       "<style scoped>\n",
       "    .dataframe tbody tr th:only-of-type {\n",
       "        vertical-align: middle;\n",
       "    }\n",
       "\n",
       "    .dataframe tbody tr th {\n",
       "        vertical-align: top;\n",
       "    }\n",
       "\n",
       "    .dataframe thead th {\n",
       "        text-align: right;\n",
       "    }\n",
       "</style>\n",
       "<table border=\"1\" class=\"dataframe\">\n",
       "  <thead>\n",
       "    <tr style=\"text-align: right;\">\n",
       "      <th></th>\n",
       "      <th>account_id</th>\n",
       "      <th>user_id</th>\n",
       "      <th>redeemed</th>\n",
       "      <th>date_created</th>\n",
       "      <th>date_churned</th>\n",
       "    </tr>\n",
       "  </thead>\n",
       "  <tbody>\n",
       "    <tr>\n",
       "      <th>0</th>\n",
       "      <td>X547595</td>\n",
       "      <td>R6G74BVZGN</td>\n",
       "      <td>N</td>\n",
       "      <td>2022-02-14</td>\n",
       "      <td>2022-11-14</td>\n",
       "    </tr>\n",
       "    <tr>\n",
       "      <th>1</th>\n",
       "      <td>X704540</td>\n",
       "      <td>NOQ41G93C5</td>\n",
       "      <td>N</td>\n",
       "      <td>2022-02-14</td>\n",
       "      <td>2022-09-14</td>\n",
       "    </tr>\n",
       "    <tr>\n",
       "      <th>2</th>\n",
       "      <td>X704540</td>\n",
       "      <td>5RYIMD2OCJ</td>\n",
       "      <td>N</td>\n",
       "      <td>2022-02-14</td>\n",
       "      <td>2022-09-14</td>\n",
       "    </tr>\n",
       "    <tr>\n",
       "      <th>3</th>\n",
       "      <td>X704540</td>\n",
       "      <td>NL77S1PVEU</td>\n",
       "      <td>N</td>\n",
       "      <td>2022-02-14</td>\n",
       "      <td>2022-09-14</td>\n",
       "    </tr>\n",
       "    <tr>\n",
       "      <th>4</th>\n",
       "      <td>X704540</td>\n",
       "      <td>RMV8K34NXZ</td>\n",
       "      <td>N</td>\n",
       "      <td>2022-02-14</td>\n",
       "      <td>2022-09-14</td>\n",
       "    </tr>\n",
       "  </tbody>\n",
       "</table>\n",
       "</div>"
      ],
      "text/plain": [
       "  account_id     user_id redeemed date_created date_churned\n",
       "0    X547595  R6G74BVZGN        N   2022-02-14   2022-11-14\n",
       "1    X704540  NOQ41G93C5        N   2022-02-14   2022-09-14\n",
       "2    X704540  5RYIMD2OCJ        N   2022-02-14   2022-09-14\n",
       "3    X704540  NL77S1PVEU        N   2022-02-14   2022-09-14\n",
       "4    X704540  RMV8K34NXZ        N   2022-02-14   2022-09-14"
      ]
     },
     "execution_count": 3,
     "metadata": {},
     "output_type": "execute_result"
    }
   ],
   "source": [
    "df = data.copy()\n",
    "df.head()"
   ]
  },
  {
   "cell_type": "code",
   "execution_count": 4,
   "id": "49164b2d",
   "metadata": {},
   "outputs": [],
   "source": [
    "df = df[(df['date_created']>'2022-02-11') & (df['date_created']<'2022-03-17')]"
   ]
  },
  {
   "cell_type": "markdown",
   "id": "f90c714a",
   "metadata": {},
   "source": [
    "## Total account_ids"
   ]
  },
  {
   "cell_type": "code",
   "execution_count": 5,
   "id": "d8cfeef0",
   "metadata": {},
   "outputs": [
    {
     "name": "stdout",
     "output_type": "stream",
     "text": [
      "There are total 41128 account ids signed up.\n"
     ]
    }
   ],
   "source": [
    "total_account_ids = df['account_id'].nunique()\n",
    "print(f\"There are total {total_account_ids} account ids signed up.\")"
   ]
  },
  {
   "cell_type": "code",
   "execution_count": 6,
   "id": "f0e57350",
   "metadata": {},
   "outputs": [
    {
     "name": "stdout",
     "output_type": "stream",
     "text": [
      "There are total 167781 user ids signed up.\n"
     ]
    }
   ],
   "source": [
    "total_user_ids = df['user_id'].nunique()\n",
    "print(f\"There are total {total_user_ids} user ids signed up.\")"
   ]
  },
  {
   "cell_type": "code",
   "execution_count": 7,
   "id": "0c6b39ec",
   "metadata": {},
   "outputs": [
    {
     "name": "stdout",
     "output_type": "stream",
     "text": [
      "There are 13812 that were created using coupons.\n"
     ]
    }
   ],
   "source": [
    "accounts_with_coupon = df[df['redeemed'] == 'Y']['account_id'].nunique()\n",
    "print(f\"There are {accounts_with_coupon} that were created using coupons.\")"
   ]
  },
  {
   "cell_type": "code",
   "execution_count": 8,
   "id": "df21d60c",
   "metadata": {},
   "outputs": [
    {
     "data": {
      "text/plain": [
       "138"
      ]
     },
     "execution_count": 8,
     "metadata": {},
     "output_type": "execute_result"
    }
   ],
   "source": [
    "df[df['date_churned'].isna()]['account_id'].nunique()"
   ]
  },
  {
   "cell_type": "code",
   "execution_count": 9,
   "id": "0971bb9a",
   "metadata": {},
   "outputs": [
    {
     "data": {
      "text/plain": [
       "549"
      ]
     },
     "execution_count": 9,
     "metadata": {},
     "output_type": "execute_result"
    }
   ],
   "source": [
    "df[df['date_churned'].isna()]['user_id'].nunique()"
   ]
  },
  {
   "cell_type": "code",
   "execution_count": 10,
   "id": "a6b16efa",
   "metadata": {},
   "outputs": [
    {
     "name": "stdout",
     "output_type": "stream",
     "text": [
      "There are 549 accounts active as of now.\n"
     ]
    }
   ],
   "source": [
    "accounts_active = df['date_churned'].isna().sum()\n",
    "\n",
    "print(f\"There are {accounts_active} accounts active as of now.\")"
   ]
  },
  {
   "cell_type": "code",
   "execution_count": 11,
   "id": "c39221ec",
   "metadata": {},
   "outputs": [
    {
     "data": {
      "text/html": [
       "<div>\n",
       "<style scoped>\n",
       "    .dataframe tbody tr th:only-of-type {\n",
       "        vertical-align: middle;\n",
       "    }\n",
       "\n",
       "    .dataframe tbody tr th {\n",
       "        vertical-align: top;\n",
       "    }\n",
       "\n",
       "    .dataframe thead th {\n",
       "        text-align: right;\n",
       "    }\n",
       "</style>\n",
       "<table border=\"1\" class=\"dataframe\">\n",
       "  <thead>\n",
       "    <tr style=\"text-align: right;\">\n",
       "      <th></th>\n",
       "      <th>account_id</th>\n",
       "      <th>user_id</th>\n",
       "      <th>redeemed</th>\n",
       "      <th>date_created</th>\n",
       "      <th>date_churned</th>\n",
       "    </tr>\n",
       "  </thead>\n",
       "  <tbody>\n",
       "    <tr>\n",
       "      <th>152713</th>\n",
       "      <td>X206124</td>\n",
       "      <td>TGNT4LT9CV</td>\n",
       "      <td>Y</td>\n",
       "      <td>2022-03-13</td>\n",
       "      <td>NaN</td>\n",
       "    </tr>\n",
       "  </tbody>\n",
       "</table>\n",
       "</div>"
      ],
      "text/plain": [
       "       account_id     user_id redeemed date_created date_churned\n",
       "152713    X206124  TGNT4LT9CV        Y   2022-03-13          NaN"
      ]
     },
     "execution_count": 11,
     "metadata": {},
     "output_type": "execute_result"
    }
   ],
   "source": [
    "df[(df['date_churned'].isna()) & (df['redeemed'] == 'Y')]"
   ]
  },
  {
   "cell_type": "code",
   "execution_count": 12,
   "id": "97ea041e",
   "metadata": {},
   "outputs": [
    {
     "name": "stdout",
     "output_type": "stream",
     "text": [
      "There are 1 accounts active as of now who signed up using coupons.\n"
     ]
    }
   ],
   "source": [
    "accounts_active_used_coupons = len(df[(df['date_churned'].isna()) & (df['redeemed'] == 'Y')])\n",
    "\n",
    "print(f\"There are {accounts_active_used_coupons} accounts active as of now who signed up using coupons.\")"
   ]
  },
  {
   "cell_type": "code",
   "execution_count": 13,
   "id": "74d4b03d",
   "metadata": {},
   "outputs": [
    {
     "name": "stdout",
     "output_type": "stream",
     "text": [
      "There are 548 accounts active as of now who signed up without using coupons.\n"
     ]
    }
   ],
   "source": [
    "accounts_active_without_coupons = len(df[(df['date_churned'].isna()) & (df['redeemed'] == 'N')])\n",
    "\n",
    "print(f\"There are {accounts_active_without_coupons} accounts active as of now who signed up without using coupons.\")"
   ]
  },
  {
   "cell_type": "markdown",
   "id": "f3253dc7",
   "metadata": {},
   "source": [
    "### There are some entries of which date_churned is smaller than the date_created, so inorder to reduce or avoid any bias, I've decided that we edit the year to the concerning cell."
   ]
  },
  {
   "cell_type": "code",
   "execution_count": 14,
   "id": "61b2e8e5",
   "metadata": {},
   "outputs": [],
   "source": [
    "df['date_churned'].replace('2000-08-04','2022-08-04',inplace=True)"
   ]
  },
  {
   "cell_type": "markdown",
   "id": "58a65d53",
   "metadata": {},
   "source": [
    "## Hypothesis:\n",
    "#### * Null Hypothesis: After having ran the campaign we will increase the revenue generated and make the retention rate better.\n",
    "#### * Alternate Hypothesis: There won't be an increase or a significant increase in the revenue and the retention rate."
   ]
  },
  {
   "cell_type": "code",
   "execution_count": 15,
   "id": "9ff35bc4",
   "metadata": {},
   "outputs": [],
   "source": [
    "def calculate_churn_period(df):\n",
    "    # Convert 'created_date' and 'churn_date' columns to datetime format\n",
    "    df['date_churned'].fillna('2023-03-31', inplace=True)\n",
    "    \n",
    "    df['date_created'] = pd.to_datetime(df['date_created'], errors='coerce')\n",
    "    df['date_churned'] = pd.to_datetime(df['date_churned'], errors='coerce')\n",
    "\n",
    "    # Calculate difference between 'churn_date' and 'created_date' in months\n",
    "    df['active_months'] = round(((df['date_churned'] - df['date_created']).dt.days / 30.436875).fillna(0))\n",
    "\n",
    "    return df\n",
    "\n",
    "df = calculate_churn_period(df)"
   ]
  },
  {
   "cell_type": "code",
   "execution_count": 16,
   "id": "d3f1c47a",
   "metadata": {},
   "outputs": [
    {
     "name": "stdout",
     "output_type": "stream",
     "text": [
      "There are 13812 accounts created with coupons due to the campaign.\n"
     ]
    }
   ],
   "source": [
    "coupons_used_after_campaign = df[(df['redeemed'] == 'Y') & (df['date_created'] > '2022-02-28')]['account_id'].nunique()\n",
    "print(f\"There are {coupons_used_after_campaign} accounts created with coupons due to the campaign.\")"
   ]
  },
  {
   "cell_type": "code",
   "execution_count": 17,
   "id": "b2c4520d",
   "metadata": {},
   "outputs": [
    {
     "name": "stdout",
     "output_type": "stream",
     "text": [
      "There are 13983 accounts created without using coupons even during the campaign.\n"
     ]
    }
   ],
   "source": [
    "coupons_not_used_after_campaign = df[(df['redeemed'] == 'N') & (df['date_created'] > '2022-02-28')]['account_id'].nunique()\n",
    "print(f\"There are {coupons_not_used_after_campaign} accounts created without using coupons even during the campaign.\")"
   ]
  },
  {
   "cell_type": "code",
   "execution_count": 18,
   "id": "2735c251",
   "metadata": {},
   "outputs": [
    {
     "name": "stdout",
     "output_type": "stream",
     "text": [
      "There are 0 accounts created with coupons before campaign was introduced.\n"
     ]
    }
   ],
   "source": [
    "coupons_used_before_campaign = df[(df['redeemed'] == 'Y') & (df['date_created'] < '2022-02-28')]['account_id'].nunique()\n",
    "print(f\"There are {coupons_used_before_campaign} accounts created with coupons before campaign was introduced.\")"
   ]
  },
  {
   "cell_type": "code",
   "execution_count": 19,
   "id": "f234ce76",
   "metadata": {},
   "outputs": [
    {
     "name": "stdout",
     "output_type": "stream",
     "text": [
      "There are 13883 accounts created before the campaign.\n"
     ]
    }
   ],
   "source": [
    "coupons_not_used_before_campaign = df[(df['redeemed'] == 'N') & (df['date_created'] < '2022-02-28')]['account_id'].nunique()\n",
    "print(f\"There are {coupons_not_used_before_campaign} accounts created before the campaign.\")"
   ]
  },
  {
   "cell_type": "code",
   "execution_count": 68,
   "id": "dfbccf75",
   "metadata": {},
   "outputs": [
    {
     "data": {
      "text/plain": [
       "55696"
      ]
     },
     "execution_count": 68,
     "metadata": {},
     "output_type": "execute_result"
    }
   ],
   "source": [
    "df[(df['redeemed'] == 'N') & (df['date_created'] < '2022-02-28')]['user_id'].nunique()"
   ]
  },
  {
   "cell_type": "code",
   "execution_count": null,
   "id": "8d561866",
   "metadata": {},
   "outputs": [],
   "source": []
  },
  {
   "cell_type": "markdown",
   "id": "2c0dc40c",
   "metadata": {},
   "source": [
    "## Things to do:\n",
    "* analyse with nan and not nan values\n",
    "* frist mach nntr kiti aale\n",
    "* yes waalyancha churn\n",
    "* no walyancha churn\n",
    "* conversion rate\n"
   ]
  },
  {
   "cell_type": "code",
   "execution_count": 77,
   "id": "e001fd5e",
   "metadata": {},
   "outputs": [
    {
     "data": {
      "text/plain": [
       "count    167781.000000\n",
       "mean          6.988092\n",
       "std           2.080213\n",
       "min           0.000000\n",
       "25%           5.000000\n",
       "50%           7.000000\n",
       "75%           8.000000\n",
       "max          13.000000\n",
       "Name: active_months, dtype: float64"
      ]
     },
     "execution_count": 77,
     "metadata": {},
     "output_type": "execute_result"
    }
   ],
   "source": [
    "df['active_months'].describe()"
   ]
  },
  {
   "cell_type": "code",
   "execution_count": 20,
   "id": "3f132291",
   "metadata": {},
   "outputs": [
    {
     "data": {
      "text/plain": [
       "<AxesSubplot:xlabel='active_months'>"
      ]
     },
     "execution_count": 20,
     "metadata": {},
     "output_type": "execute_result"
    },
    {
     "data": {
      "image/png": "[encoded data removed]",
      "text/plain": [
       "<Figure size 864x288 with 1 Axes>"
      ]
     },
     "metadata": {
      "needs_background": "light"
     },
     "output_type": "display_data"
    }
   ],
   "source": [
    "plt.figure(figsize=(12,4))\n",
    "sns.boxplot(x=df['active_months'])"
   ]
  },
  {
   "cell_type": "code",
   "execution_count": 21,
   "id": "87147286",
   "metadata": {},
   "outputs": [
    {
     "name": "stdout",
     "output_type": "stream",
     "text": [
      "The average user age before it gets churned is 7 months\n"
     ]
    }
   ],
   "source": [
    "avg_user_age= df['active_months'].mean()\n",
    "print(f\"The average user age before it gets churned is {round(avg_user_age)} months\")"
   ]
  },
  {
   "cell_type": "code",
   "execution_count": 22,
   "id": "6b1841cf",
   "metadata": {},
   "outputs": [
    {
     "data": {
      "text/plain": [
       "Text(0, 0.5, 'daily users acquired')"
      ]
     },
     "execution_count": 22,
     "metadata": {},
     "output_type": "execute_result"
    },
    {
     "data": {
      "image/png": "[encoded data removed]",
      "text/plain": [
       "<Figure size 720x432 with 1 Axes>"
      ]
     },
     "metadata": {
      "needs_background": "light"
     },
     "output_type": "display_data"
    }
   ],
   "source": [
    "plt.figure(figsize=(10,6))\n",
    "df.groupby(['date_created'])['user_id'].nunique().plot()\n",
    "plt.title('Users sign up before and after campaign')\n",
    "plt.xlabel('date_created')\n",
    "plt.ylabel('daily users acquired')"
   ]
  },
  {
   "cell_type": "code",
   "execution_count": 23,
   "id": "ed3710a9",
   "metadata": {},
   "outputs": [
    {
     "data": {
      "text/plain": [
       "Text(0, 0.5, 'Revenue by users churned')"
      ]
     },
     "execution_count": 23,
     "metadata": {},
     "output_type": "execute_result"
    },
    {
     "data": {
      "image/png": "[encoded data removed]",
      "text/plain": [
       "<Figure size 720x432 with 1 Axes>"
      ]
     },
     "metadata": {
      "needs_background": "light"
     },
     "output_type": "display_data"
    }
   ],
   "source": [
    "plt.figure(figsize=(10,6))\n",
    "df.groupby(['date_churned'])['user_id'].nunique().plot()\n",
    "plt.title('Users sign up before and after campaign')\n",
    "plt.xlabel('date_churned')\n",
    "plt.ylabel('Revenue by users churned')"
   ]
  },
  {
   "cell_type": "code",
   "execution_count": 24,
   "id": "ef6b7244",
   "metadata": {},
   "outputs": [
    {
     "data": {
      "text/html": [
       "<div>\n",
       "<style scoped>\n",
       "    .dataframe tbody tr th:only-of-type {\n",
       "        vertical-align: middle;\n",
       "    }\n",
       "\n",
       "    .dataframe tbody tr th {\n",
       "        vertical-align: top;\n",
       "    }\n",
       "\n",
       "    .dataframe thead th {\n",
       "        text-align: right;\n",
       "    }\n",
       "</style>\n",
       "<table border=\"1\" class=\"dataframe\">\n",
       "  <thead>\n",
       "    <tr style=\"text-align: right;\">\n",
       "      <th></th>\n",
       "      <th>account_id</th>\n",
       "      <th>user_id</th>\n",
       "      <th>redeemed</th>\n",
       "      <th>date_created</th>\n",
       "      <th>date_churned</th>\n",
       "      <th>active_months</th>\n",
       "    </tr>\n",
       "  </thead>\n",
       "  <tbody>\n",
       "    <tr>\n",
       "      <th>6961</th>\n",
       "      <td>X821881</td>\n",
       "      <td>D121KIKWFB</td>\n",
       "      <td>NaN</td>\n",
       "      <td>2022-02-15</td>\n",
       "      <td>2022-10-15</td>\n",
       "      <td>8.0</td>\n",
       "    </tr>\n",
       "    <tr>\n",
       "      <th>33325</th>\n",
       "      <td>X695876</td>\n",
       "      <td>GULLX69NSQ</td>\n",
       "      <td>NaN</td>\n",
       "      <td>2022-02-22</td>\n",
       "      <td>2022-09-22</td>\n",
       "      <td>7.0</td>\n",
       "    </tr>\n",
       "    <tr>\n",
       "      <th>41424</th>\n",
       "      <td>X67849</td>\n",
       "      <td>46G3B46AQ1</td>\n",
       "      <td>NaN</td>\n",
       "      <td>2022-02-24</td>\n",
       "      <td>2022-11-24</td>\n",
       "      <td>9.0</td>\n",
       "    </tr>\n",
       "    <tr>\n",
       "      <th>77177</th>\n",
       "      <td>X100451</td>\n",
       "      <td>UANUNUGCS7</td>\n",
       "      <td>NaN</td>\n",
       "      <td>2022-03-03</td>\n",
       "      <td>2022-06-03</td>\n",
       "      <td>3.0</td>\n",
       "    </tr>\n",
       "    <tr>\n",
       "      <th>82990</th>\n",
       "      <td>X132705</td>\n",
       "      <td>Q3O84NKW8A</td>\n",
       "      <td>NaN</td>\n",
       "      <td>2022-03-04</td>\n",
       "      <td>2022-08-04</td>\n",
       "      <td>5.0</td>\n",
       "    </tr>\n",
       "    <tr>\n",
       "      <th>134446</th>\n",
       "      <td>X122845</td>\n",
       "      <td>7N48M1GSTQ</td>\n",
       "      <td>NaN</td>\n",
       "      <td>2022-03-10</td>\n",
       "      <td>2022-09-10</td>\n",
       "      <td>6.0</td>\n",
       "    </tr>\n",
       "    <tr>\n",
       "      <th>159758</th>\n",
       "      <td>X876324</td>\n",
       "      <td>19S6DAOVYB</td>\n",
       "      <td>NaN</td>\n",
       "      <td>2022-03-13</td>\n",
       "      <td>2022-10-13</td>\n",
       "      <td>7.0</td>\n",
       "    </tr>\n",
       "    <tr>\n",
       "      <th>167512</th>\n",
       "      <td>X14247</td>\n",
       "      <td>WX64ZPEE9X</td>\n",
       "      <td>NaN</td>\n",
       "      <td>2022-03-14</td>\n",
       "      <td>2022-08-14</td>\n",
       "      <td>5.0</td>\n",
       "    </tr>\n",
       "  </tbody>\n",
       "</table>\n",
       "</div>"
      ],
      "text/plain": [
       "       account_id     user_id redeemed date_created date_churned  \\\n",
       "6961      X821881  D121KIKWFB      NaN   2022-02-15   2022-10-15   \n",
       "33325     X695876  GULLX69NSQ      NaN   2022-02-22   2022-09-22   \n",
       "41424      X67849  46G3B46AQ1      NaN   2022-02-24   2022-11-24   \n",
       "77177     X100451  UANUNUGCS7      NaN   2022-03-03   2022-06-03   \n",
       "82990     X132705  Q3O84NKW8A      NaN   2022-03-04   2022-08-04   \n",
       "134446    X122845  7N48M1GSTQ      NaN   2022-03-10   2022-09-10   \n",
       "159758    X876324  19S6DAOVYB      NaN   2022-03-13   2022-10-13   \n",
       "167512     X14247  WX64ZPEE9X      NaN   2022-03-14   2022-08-14   \n",
       "\n",
       "        active_months  \n",
       "6961              8.0  \n",
       "33325             7.0  \n",
       "41424             9.0  \n",
       "77177             3.0  \n",
       "82990             5.0  \n",
       "134446            6.0  \n",
       "159758            7.0  \n",
       "167512            5.0  "
      ]
     },
     "execution_count": 24,
     "metadata": {},
     "output_type": "execute_result"
    }
   ],
   "source": [
    "df[df['redeemed'].isna()]"
   ]
  },
  {
   "cell_type": "code",
   "execution_count": 25,
   "id": "f0d197ab",
   "metadata": {},
   "outputs": [],
   "source": [
    "df['redeemed'] = df['redeemed'].replace(np.nan,'NAN')"
   ]
  },
  {
   "cell_type": "code",
   "execution_count": 26,
   "id": "ef87ace2",
   "metadata": {},
   "outputs": [
    {
     "data": {
      "text/html": [
       "<div>\n",
       "<style scoped>\n",
       "    .dataframe tbody tr th:only-of-type {\n",
       "        vertical-align: middle;\n",
       "    }\n",
       "\n",
       "    .dataframe tbody tr th {\n",
       "        vertical-align: top;\n",
       "    }\n",
       "\n",
       "    .dataframe thead th {\n",
       "        text-align: right;\n",
       "    }\n",
       "</style>\n",
       "<table border=\"1\" class=\"dataframe\">\n",
       "  <thead>\n",
       "    <tr style=\"text-align: right;\">\n",
       "      <th></th>\n",
       "      <th>account_id</th>\n",
       "      <th>user_id</th>\n",
       "      <th>redeemed</th>\n",
       "      <th>date_created</th>\n",
       "      <th>date_churned</th>\n",
       "      <th>active_months</th>\n",
       "    </tr>\n",
       "  </thead>\n",
       "  <tbody>\n",
       "    <tr>\n",
       "      <th>6961</th>\n",
       "      <td>X821881</td>\n",
       "      <td>D121KIKWFB</td>\n",
       "      <td>NAN</td>\n",
       "      <td>2022-02-15</td>\n",
       "      <td>2022-10-15</td>\n",
       "      <td>8.0</td>\n",
       "    </tr>\n",
       "    <tr>\n",
       "      <th>33325</th>\n",
       "      <td>X695876</td>\n",
       "      <td>GULLX69NSQ</td>\n",
       "      <td>NAN</td>\n",
       "      <td>2022-02-22</td>\n",
       "      <td>2022-09-22</td>\n",
       "      <td>7.0</td>\n",
       "    </tr>\n",
       "    <tr>\n",
       "      <th>41424</th>\n",
       "      <td>X67849</td>\n",
       "      <td>46G3B46AQ1</td>\n",
       "      <td>NAN</td>\n",
       "      <td>2022-02-24</td>\n",
       "      <td>2022-11-24</td>\n",
       "      <td>9.0</td>\n",
       "    </tr>\n",
       "    <tr>\n",
       "      <th>77177</th>\n",
       "      <td>X100451</td>\n",
       "      <td>UANUNUGCS7</td>\n",
       "      <td>NAN</td>\n",
       "      <td>2022-03-03</td>\n",
       "      <td>2022-06-03</td>\n",
       "      <td>3.0</td>\n",
       "    </tr>\n",
       "    <tr>\n",
       "      <th>82990</th>\n",
       "      <td>X132705</td>\n",
       "      <td>Q3O84NKW8A</td>\n",
       "      <td>NAN</td>\n",
       "      <td>2022-03-04</td>\n",
       "      <td>2022-08-04</td>\n",
       "      <td>5.0</td>\n",
       "    </tr>\n",
       "    <tr>\n",
       "      <th>134446</th>\n",
       "      <td>X122845</td>\n",
       "      <td>7N48M1GSTQ</td>\n",
       "      <td>NAN</td>\n",
       "      <td>2022-03-10</td>\n",
       "      <td>2022-09-10</td>\n",
       "      <td>6.0</td>\n",
       "    </tr>\n",
       "    <tr>\n",
       "      <th>159758</th>\n",
       "      <td>X876324</td>\n",
       "      <td>19S6DAOVYB</td>\n",
       "      <td>NAN</td>\n",
       "      <td>2022-03-13</td>\n",
       "      <td>2022-10-13</td>\n",
       "      <td>7.0</td>\n",
       "    </tr>\n",
       "    <tr>\n",
       "      <th>167512</th>\n",
       "      <td>X14247</td>\n",
       "      <td>WX64ZPEE9X</td>\n",
       "      <td>NAN</td>\n",
       "      <td>2022-03-14</td>\n",
       "      <td>2022-08-14</td>\n",
       "      <td>5.0</td>\n",
       "    </tr>\n",
       "  </tbody>\n",
       "</table>\n",
       "</div>"
      ],
      "text/plain": [
       "       account_id     user_id redeemed date_created date_churned  \\\n",
       "6961      X821881  D121KIKWFB      NAN   2022-02-15   2022-10-15   \n",
       "33325     X695876  GULLX69NSQ      NAN   2022-02-22   2022-09-22   \n",
       "41424      X67849  46G3B46AQ1      NAN   2022-02-24   2022-11-24   \n",
       "77177     X100451  UANUNUGCS7      NAN   2022-03-03   2022-06-03   \n",
       "82990     X132705  Q3O84NKW8A      NAN   2022-03-04   2022-08-04   \n",
       "134446    X122845  7N48M1GSTQ      NAN   2022-03-10   2022-09-10   \n",
       "159758    X876324  19S6DAOVYB      NAN   2022-03-13   2022-10-13   \n",
       "167512     X14247  WX64ZPEE9X      NAN   2022-03-14   2022-08-14   \n",
       "\n",
       "        active_months  \n",
       "6961              8.0  \n",
       "33325             7.0  \n",
       "41424             9.0  \n",
       "77177             3.0  \n",
       "82990             5.0  \n",
       "134446            6.0  \n",
       "159758            7.0  \n",
       "167512            5.0  "
      ]
     },
     "execution_count": 26,
     "metadata": {},
     "output_type": "execute_result"
    }
   ],
   "source": [
    "df[df['redeemed']=='NAN']"
   ]
  },
  {
   "cell_type": "code",
   "execution_count": 27,
   "id": "9e9ae78c",
   "metadata": {},
   "outputs": [],
   "source": [
    "before_date = pd.to_datetime('2022-02-28')\n",
    "\n",
    "def fill_redeem(colm):\n",
    "    redeem = colm[0]\n",
    "    created_date = colm[1]\n",
    "    if \"NAN\" in redeem and created_date < before_date:\n",
    "        redeem='N'\n",
    "        return redeem\n",
    "    else: \n",
    "        return redeem\n",
    "\n",
    "df['redeemed'] = df[['redeemed','date_created']].apply(fill_redeem,axis=1)"
   ]
  },
  {
   "cell_type": "markdown",
   "id": "0443c95a",
   "metadata": {},
   "source": [
    "There are nan values in the the dataframe for the column redeemed indicating if the user chose to signup using the coupon code or not. Now if we just assume that the user_id's signed up during the campaign period were created using the coupon codes and fill in the values accordingly then it'd be a very <b>*biased assumption*</b> in favour of the campaign and thus can make the metric skew a little bit.\n",
    "\n",
    "So I've decided to put these values aside and proceed with the remainder of the dataset."
   ]
  },
  {
   "cell_type": "code",
   "execution_count": 29,
   "id": "ed2cf3e9",
   "metadata": {},
   "outputs": [
    {
     "data": {
      "text/html": [
       "<div>\n",
       "<style scoped>\n",
       "    .dataframe tbody tr th:only-of-type {\n",
       "        vertical-align: middle;\n",
       "    }\n",
       "\n",
       "    .dataframe tbody tr th {\n",
       "        vertical-align: top;\n",
       "    }\n",
       "\n",
       "    .dataframe thead th {\n",
       "        text-align: right;\n",
       "    }\n",
       "</style>\n",
       "<table border=\"1\" class=\"dataframe\">\n",
       "  <thead>\n",
       "    <tr style=\"text-align: right;\">\n",
       "      <th></th>\n",
       "      <th>account_id</th>\n",
       "      <th>user_id</th>\n",
       "      <th>redeemed</th>\n",
       "      <th>date_created</th>\n",
       "      <th>date_churned</th>\n",
       "      <th>active_months</th>\n",
       "    </tr>\n",
       "  </thead>\n",
       "  <tbody>\n",
       "    <tr>\n",
       "      <th>77177</th>\n",
       "      <td>X100451</td>\n",
       "      <td>UANUNUGCS7</td>\n",
       "      <td>NAN</td>\n",
       "      <td>2022-03-03</td>\n",
       "      <td>2022-06-03</td>\n",
       "      <td>3.0</td>\n",
       "    </tr>\n",
       "    <tr>\n",
       "      <th>82990</th>\n",
       "      <td>X132705</td>\n",
       "      <td>Q3O84NKW8A</td>\n",
       "      <td>NAN</td>\n",
       "      <td>2022-03-04</td>\n",
       "      <td>2022-08-04</td>\n",
       "      <td>5.0</td>\n",
       "    </tr>\n",
       "    <tr>\n",
       "      <th>134446</th>\n",
       "      <td>X122845</td>\n",
       "      <td>7N48M1GSTQ</td>\n",
       "      <td>NAN</td>\n",
       "      <td>2022-03-10</td>\n",
       "      <td>2022-09-10</td>\n",
       "      <td>6.0</td>\n",
       "    </tr>\n",
       "    <tr>\n",
       "      <th>159758</th>\n",
       "      <td>X876324</td>\n",
       "      <td>19S6DAOVYB</td>\n",
       "      <td>NAN</td>\n",
       "      <td>2022-03-13</td>\n",
       "      <td>2022-10-13</td>\n",
       "      <td>7.0</td>\n",
       "    </tr>\n",
       "    <tr>\n",
       "      <th>167512</th>\n",
       "      <td>X14247</td>\n",
       "      <td>WX64ZPEE9X</td>\n",
       "      <td>NAN</td>\n",
       "      <td>2022-03-14</td>\n",
       "      <td>2022-08-14</td>\n",
       "      <td>5.0</td>\n",
       "    </tr>\n",
       "  </tbody>\n",
       "</table>\n",
       "</div>"
      ],
      "text/plain": [
       "       account_id     user_id redeemed date_created date_churned  \\\n",
       "77177     X100451  UANUNUGCS7      NAN   2022-03-03   2022-06-03   \n",
       "82990     X132705  Q3O84NKW8A      NAN   2022-03-04   2022-08-04   \n",
       "134446    X122845  7N48M1GSTQ      NAN   2022-03-10   2022-09-10   \n",
       "159758    X876324  19S6DAOVYB      NAN   2022-03-13   2022-10-13   \n",
       "167512     X14247  WX64ZPEE9X      NAN   2022-03-14   2022-08-14   \n",
       "\n",
       "        active_months  \n",
       "77177             3.0  \n",
       "82990             5.0  \n",
       "134446            6.0  \n",
       "159758            7.0  \n",
       "167512            5.0  "
      ]
     },
     "execution_count": 29,
     "metadata": {},
     "output_type": "execute_result"
    }
   ],
   "source": [
    "df[df['redeemed']=='NAN']"
   ]
  },
  {
   "cell_type": "code",
   "execution_count": 30,
   "id": "b617749d",
   "metadata": {},
   "outputs": [
    {
     "data": {
      "text/html": [
       "<div>\n",
       "<style scoped>\n",
       "    .dataframe tbody tr th:only-of-type {\n",
       "        vertical-align: middle;\n",
       "    }\n",
       "\n",
       "    .dataframe tbody tr th {\n",
       "        vertical-align: top;\n",
       "    }\n",
       "\n",
       "    .dataframe thead th {\n",
       "        text-align: right;\n",
       "    }\n",
       "</style>\n",
       "<table border=\"1\" class=\"dataframe\">\n",
       "  <thead>\n",
       "    <tr style=\"text-align: right;\">\n",
       "      <th></th>\n",
       "      <th>account_id</th>\n",
       "      <th>user_id</th>\n",
       "      <th>redeemed</th>\n",
       "      <th>date_created</th>\n",
       "      <th>date_churned</th>\n",
       "      <th>active_months</th>\n",
       "    </tr>\n",
       "  </thead>\n",
       "  <tbody>\n",
       "    <tr>\n",
       "      <th>0</th>\n",
       "      <td>X547595</td>\n",
       "      <td>R6G74BVZGN</td>\n",
       "      <td>N</td>\n",
       "      <td>2022-02-14</td>\n",
       "      <td>2022-11-14</td>\n",
       "      <td>9.0</td>\n",
       "    </tr>\n",
       "    <tr>\n",
       "      <th>1</th>\n",
       "      <td>X704540</td>\n",
       "      <td>NOQ41G93C5</td>\n",
       "      <td>N</td>\n",
       "      <td>2022-02-14</td>\n",
       "      <td>2022-09-14</td>\n",
       "      <td>7.0</td>\n",
       "    </tr>\n",
       "    <tr>\n",
       "      <th>2</th>\n",
       "      <td>X704540</td>\n",
       "      <td>5RYIMD2OCJ</td>\n",
       "      <td>N</td>\n",
       "      <td>2022-02-14</td>\n",
       "      <td>2022-09-14</td>\n",
       "      <td>7.0</td>\n",
       "    </tr>\n",
       "    <tr>\n",
       "      <th>3</th>\n",
       "      <td>X704540</td>\n",
       "      <td>NL77S1PVEU</td>\n",
       "      <td>N</td>\n",
       "      <td>2022-02-14</td>\n",
       "      <td>2022-09-14</td>\n",
       "      <td>7.0</td>\n",
       "    </tr>\n",
       "    <tr>\n",
       "      <th>4</th>\n",
       "      <td>X704540</td>\n",
       "      <td>RMV8K34NXZ</td>\n",
       "      <td>N</td>\n",
       "      <td>2022-02-14</td>\n",
       "      <td>2022-09-14</td>\n",
       "      <td>7.0</td>\n",
       "    </tr>\n",
       "    <tr>\n",
       "      <th>...</th>\n",
       "      <td>...</td>\n",
       "      <td>...</td>\n",
       "      <td>...</td>\n",
       "      <td>...</td>\n",
       "      <td>...</td>\n",
       "      <td>...</td>\n",
       "    </tr>\n",
       "    <tr>\n",
       "      <th>167810</th>\n",
       "      <td>X556715</td>\n",
       "      <td>7THM87WUAS</td>\n",
       "      <td>N</td>\n",
       "      <td>2022-03-14</td>\n",
       "      <td>2022-10-14</td>\n",
       "      <td>7.0</td>\n",
       "    </tr>\n",
       "    <tr>\n",
       "      <th>167811</th>\n",
       "      <td>X556715</td>\n",
       "      <td>LQOXYY42V8</td>\n",
       "      <td>N</td>\n",
       "      <td>2022-03-14</td>\n",
       "      <td>2022-10-14</td>\n",
       "      <td>7.0</td>\n",
       "    </tr>\n",
       "    <tr>\n",
       "      <th>167812</th>\n",
       "      <td>X556715</td>\n",
       "      <td>2IWJ1OPPEJ</td>\n",
       "      <td>N</td>\n",
       "      <td>2022-03-14</td>\n",
       "      <td>2022-10-14</td>\n",
       "      <td>7.0</td>\n",
       "    </tr>\n",
       "    <tr>\n",
       "      <th>167813</th>\n",
       "      <td>X556715</td>\n",
       "      <td>ISASLCXDEA</td>\n",
       "      <td>N</td>\n",
       "      <td>2022-03-14</td>\n",
       "      <td>2022-10-14</td>\n",
       "      <td>7.0</td>\n",
       "    </tr>\n",
       "    <tr>\n",
       "      <th>167814</th>\n",
       "      <td>X556715</td>\n",
       "      <td>SNRPWS9I5T</td>\n",
       "      <td>N</td>\n",
       "      <td>2022-03-14</td>\n",
       "      <td>2022-10-14</td>\n",
       "      <td>7.0</td>\n",
       "    </tr>\n",
       "  </tbody>\n",
       "</table>\n",
       "<p>167776 rows × 6 columns</p>\n",
       "</div>"
      ],
      "text/plain": [
       "       account_id     user_id redeemed date_created date_churned  \\\n",
       "0         X547595  R6G74BVZGN        N   2022-02-14   2022-11-14   \n",
       "1         X704540  NOQ41G93C5        N   2022-02-14   2022-09-14   \n",
       "2         X704540  5RYIMD2OCJ        N   2022-02-14   2022-09-14   \n",
       "3         X704540  NL77S1PVEU        N   2022-02-14   2022-09-14   \n",
       "4         X704540  RMV8K34NXZ        N   2022-02-14   2022-09-14   \n",
       "...           ...         ...      ...          ...          ...   \n",
       "167810    X556715  7THM87WUAS        N   2022-03-14   2022-10-14   \n",
       "167811    X556715  LQOXYY42V8        N   2022-03-14   2022-10-14   \n",
       "167812    X556715  2IWJ1OPPEJ        N   2022-03-14   2022-10-14   \n",
       "167813    X556715  ISASLCXDEA        N   2022-03-14   2022-10-14   \n",
       "167814    X556715  SNRPWS9I5T        N   2022-03-14   2022-10-14   \n",
       "\n",
       "        active_months  \n",
       "0                 9.0  \n",
       "1                 7.0  \n",
       "2                 7.0  \n",
       "3                 7.0  \n",
       "4                 7.0  \n",
       "...               ...  \n",
       "167810            7.0  \n",
       "167811            7.0  \n",
       "167812            7.0  \n",
       "167813            7.0  \n",
       "167814            7.0  \n",
       "\n",
       "[167776 rows x 6 columns]"
      ]
     },
     "execution_count": 30,
     "metadata": {},
     "output_type": "execute_result"
    }
   ],
   "source": [
    "df_1 = df[df['redeemed']!='NAN']\n",
    "df_1"
   ]
  },
  {
   "cell_type": "markdown",
   "id": "1627c7a2",
   "metadata": {},
   "source": [
    "We can't as of now determine if the above mentioned user ids have used the coupon code to or not whereas the ones which were created before the campaign start date I have assumed it that they didn't have access to the coupon."
   ]
  },
  {
   "cell_type": "code",
   "execution_count": 31,
   "id": "fbf46815",
   "metadata": {},
   "outputs": [
    {
     "name": "stderr",
     "output_type": "stream",
     "text": [
      "/var/folders/xj/yspv_kgs62q2d3qp8q_x3nt00000gr/T/ipykernel_41971/1694033356.py:17: SettingWithCopyWarning: \n",
      "A value is trying to be set on a copy of a slice from a DataFrame.\n",
      "Try using .loc[row_indexer,col_indexer] = value instead\n",
      "\n",
      "See the caveats in the documentation: https://pandas.pydata.org/pandas-docs/stable/user_guide/indexing.html#returning-a-view-versus-a-copy\n",
      "  df_1['revenue'] = df_1[['active_months','redeemed','date_created']].apply(revenue_generated,axis=1)\n"
     ]
    }
   ],
   "source": [
    "before_date = pd.to_datetime('2022-02-28')\n",
    "\n",
    "def revenue_generated(coloms):\n",
    "    active_months = coloms[0]\n",
    "    redeemed = coloms[1]\n",
    "    created_date = coloms[2]\n",
    "    if active_months <= 3:\n",
    "        sales = 0\n",
    "        return sales\n",
    "    elif redeemed == 'Y' and created_date > before_date:\n",
    "        sales = (active_months - 3) * 3\n",
    "        return sales\n",
    "    elif redeemed == 'N':\n",
    "        sales = active_months*3\n",
    "        return sales\n",
    "\n",
    "df_1['revenue'] = df_1[['active_months','redeemed','date_created']].apply(revenue_generated,axis=1)"
   ]
  },
  {
   "cell_type": "code",
   "execution_count": 71,
   "id": "ecc0d2bd",
   "metadata": {},
   "outputs": [
    {
     "name": "stdout",
     "output_type": "stream",
     "text": [
      "The average revenue per account is $73.\n"
     ]
    }
   ],
   "source": [
    "avg_revenue_user = df_1['revenue'].sum()/df_1['account_id'].nunique()\n",
    "print(f\"The average revenue per account is ${round(avg_revenue_user)}.\")"
   ]
  },
  {
   "cell_type": "code",
   "execution_count": 70,
   "id": "94c86ff5",
   "metadata": {},
   "outputs": [
    {
     "name": "stdout",
     "output_type": "stream",
     "text": [
      "The average revenue per user is $18.\n"
     ]
    }
   ],
   "source": [
    "avg_revenue_user = df_1['revenue'].sum()/df_1['user_id'].nunique()\n",
    "print(f\"The average revenue per user is ${round(avg_revenue_user)}.\")"
   ]
  },
  {
   "cell_type": "code",
   "execution_count": 33,
   "id": "c3abbc6b",
   "metadata": {},
   "outputs": [
    {
     "data": {
      "text/plain": [
       "5321"
      ]
     },
     "execution_count": 33,
     "metadata": {},
     "output_type": "execute_result"
    }
   ],
   "source": [
    "df_1[df_1['active_months']<=3]['user_id'].nunique() # 3 mahine and tyachya khaali active "
   ]
  },
  {
   "cell_type": "code",
   "execution_count": 34,
   "id": "667c8a19",
   "metadata": {},
   "outputs": [
    {
     "name": "stdout",
     "output_type": "stream",
     "text": [
      "There were 2709 number of user_id's that were active for less than 3 months so they enjoyed the promotion without being charged a penny.\n"
     ]
    }
   ],
   "source": [
    "three_months_and_less = df_1[(df_1['active_months']<=3) & (df_1['redeemed']=='Y')]['user_id'].nunique() # 3 mahine and tyachya khaali active\n",
    "print(f\"There were {three_months_and_less} number of user_id's that were active for less than 3 months so they enjoyed the promotion without being charged a penny.\")"
   ]
  },
  {
   "cell_type": "code",
   "execution_count": 75,
   "id": "4b4e74ae",
   "metadata": {},
   "outputs": [
    {
     "name": "stdout",
     "output_type": "stream",
     "text": [
      "The average revenue per user who signed up with a coupon is $8.99\n"
     ]
    }
   ],
   "source": [
    "avg_revenue_per_user_with_coupon = round(df_1[df_1['redeemed']=='Y']['revenue'].mean(),2) # Dollars\n",
    "print(f\"The average revenue per user who signed up with a coupon is ${avg_revenue_per_user_with_coupon}\")"
   ]
  },
  {
   "cell_type": "code",
   "execution_count": 76,
   "id": "f50b8c00",
   "metadata": {},
   "outputs": [
    {
     "name": "stdout",
     "output_type": "stream",
     "text": [
      "The average revenue per user who signed up without a coupon is $22.27\n"
     ]
    }
   ],
   "source": [
    "avg_revenue_per_user_without_coupon = round(df_1[df_1['redeemed']=='N']['revenue'].mean(),2) # Dollars\n",
    "print(f\"The average revenue per user who signed up without a coupon is ${avg_revenue_per_user_without_coupon}\")"
   ]
  },
  {
   "cell_type": "code",
   "execution_count": 37,
   "id": "54abd214",
   "metadata": {},
   "outputs": [
    {
     "name": "stdout",
     "output_type": "stream",
     "text": [
      "The average duratin for which the user_id is active for a user signed up with coupon is 5.98 months\n"
     ]
    }
   ],
   "source": [
    "avg_active_duration_user_id_with_coupon = round(df_1[df_1['redeemed']=='Y']['active_months'].mean(),2) # Months\n",
    "print(f\"The average duratin for which the user_id is active for a user signed up with coupon is {avg_active_duration_user_id_with_coupon} months\")"
   ]
  },
  {
   "cell_type": "code",
   "execution_count": 38,
   "id": "bd08ec28",
   "metadata": {},
   "outputs": [
    {
     "name": "stdout",
     "output_type": "stream",
     "text": [
      "The average duratin for which the user_id is active for a user signed up without coupon is 7.49 months\n"
     ]
    }
   ],
   "source": [
    "avg_active_duration_user_id_without_coupon = round(df_1[df_1['redeemed']=='N']['active_months'].mean(),2) # Months\n",
    "print(f\"The average duratin for which the user_id is active for a user signed up without coupon is {avg_active_duration_user_id_without_coupon} months\")"
   ]
  },
  {
   "cell_type": "markdown",
   "id": "4aad1c7d",
   "metadata": {},
   "source": [
    "## Conversion Rate"
   ]
  },
  {
   "cell_type": "code",
   "execution_count": 39,
   "id": "59d37ad4",
   "metadata": {},
   "outputs": [
    {
     "name": "stdout",
     "output_type": "stream",
     "text": [
      "The conversion rate for the accounts created with coupons is 50.0%.\n"
     ]
    }
   ],
   "source": [
    "total_impressions = df_1[df_1['date_created']>'2022-02-28']['account_id'].nunique()\n",
    "converted_accounts = df_1[(df_1['date_created']>'2022-02-28') & (df_1['redeemed']=='Y')]['account_id'].nunique()\n",
    "conversion_rate = round((converted_accounts * 100)/total_impressions,2)\n",
    "print(f\"The conversion rate for the accounts created with coupons is {conversion_rate}%.\")"
   ]
  },
  {
   "cell_type": "markdown",
   "id": "8a041e3b",
   "metadata": {},
   "source": [
    "## Retention Rates"
   ]
  },
  {
   "cell_type": "code",
   "execution_count": 40,
   "id": "5ecfbb1e",
   "metadata": {},
   "outputs": [
    {
     "data": {
      "text/html": [
       "<div>\n",
       "<style scoped>\n",
       "    .dataframe tbody tr th:only-of-type {\n",
       "        vertical-align: middle;\n",
       "    }\n",
       "\n",
       "    .dataframe tbody tr th {\n",
       "        vertical-align: top;\n",
       "    }\n",
       "\n",
       "    .dataframe thead th {\n",
       "        text-align: right;\n",
       "    }\n",
       "</style>\n",
       "<table border=\"1\" class=\"dataframe\">\n",
       "  <thead>\n",
       "    <tr style=\"text-align: right;\">\n",
       "      <th></th>\n",
       "      <th>account_id</th>\n",
       "      <th>user_id</th>\n",
       "      <th>redeemed</th>\n",
       "      <th>date_created</th>\n",
       "      <th>date_churned</th>\n",
       "      <th>active_months</th>\n",
       "      <th>revenue</th>\n",
       "    </tr>\n",
       "  </thead>\n",
       "  <tbody>\n",
       "    <tr>\n",
       "      <th>77</th>\n",
       "      <td>X58903</td>\n",
       "      <td>SGC157IZ93</td>\n",
       "      <td>N</td>\n",
       "      <td>2022-02-14</td>\n",
       "      <td>2023-03-31</td>\n",
       "      <td>13.0</td>\n",
       "      <td>39.0</td>\n",
       "    </tr>\n",
       "    <tr>\n",
       "      <th>78</th>\n",
       "      <td>X58903</td>\n",
       "      <td>3176TGV9L4</td>\n",
       "      <td>N</td>\n",
       "      <td>2022-02-14</td>\n",
       "      <td>2023-03-31</td>\n",
       "      <td>13.0</td>\n",
       "      <td>39.0</td>\n",
       "    </tr>\n",
       "    <tr>\n",
       "      <th>79</th>\n",
       "      <td>X58903</td>\n",
       "      <td>NGV1PH47I3</td>\n",
       "      <td>N</td>\n",
       "      <td>2022-02-14</td>\n",
       "      <td>2023-03-31</td>\n",
       "      <td>13.0</td>\n",
       "      <td>39.0</td>\n",
       "    </tr>\n",
       "    <tr>\n",
       "      <th>80</th>\n",
       "      <td>X58903</td>\n",
       "      <td>O1V6UUQTHX</td>\n",
       "      <td>N</td>\n",
       "      <td>2022-02-14</td>\n",
       "      <td>2023-03-31</td>\n",
       "      <td>13.0</td>\n",
       "      <td>39.0</td>\n",
       "    </tr>\n",
       "    <tr>\n",
       "      <th>81</th>\n",
       "      <td>X58903</td>\n",
       "      <td>4QKWI7TQ84</td>\n",
       "      <td>N</td>\n",
       "      <td>2022-02-14</td>\n",
       "      <td>2023-03-31</td>\n",
       "      <td>13.0</td>\n",
       "      <td>39.0</td>\n",
       "    </tr>\n",
       "    <tr>\n",
       "      <th>...</th>\n",
       "      <td>...</td>\n",
       "      <td>...</td>\n",
       "      <td>...</td>\n",
       "      <td>...</td>\n",
       "      <td>...</td>\n",
       "      <td>...</td>\n",
       "      <td>...</td>\n",
       "    </tr>\n",
       "    <tr>\n",
       "      <th>55666</th>\n",
       "      <td>X943863</td>\n",
       "      <td>LQ9E3F5DU1</td>\n",
       "      <td>N</td>\n",
       "      <td>2022-02-27</td>\n",
       "      <td>2023-03-31</td>\n",
       "      <td>13.0</td>\n",
       "      <td>39.0</td>\n",
       "    </tr>\n",
       "    <tr>\n",
       "      <th>144648</th>\n",
       "      <td>X417029</td>\n",
       "      <td>2O2L7DZ2TV</td>\n",
       "      <td>N</td>\n",
       "      <td>2022-03-12</td>\n",
       "      <td>2023-03-31</td>\n",
       "      <td>13.0</td>\n",
       "      <td>39.0</td>\n",
       "    </tr>\n",
       "    <tr>\n",
       "      <th>144649</th>\n",
       "      <td>X417029</td>\n",
       "      <td>Q9DY8BUO6S</td>\n",
       "      <td>N</td>\n",
       "      <td>2022-03-12</td>\n",
       "      <td>2023-03-31</td>\n",
       "      <td>13.0</td>\n",
       "      <td>39.0</td>\n",
       "    </tr>\n",
       "    <tr>\n",
       "      <th>144650</th>\n",
       "      <td>X417029</td>\n",
       "      <td>JV9BGIZAGB</td>\n",
       "      <td>N</td>\n",
       "      <td>2022-03-12</td>\n",
       "      <td>2023-03-31</td>\n",
       "      <td>13.0</td>\n",
       "      <td>39.0</td>\n",
       "    </tr>\n",
       "    <tr>\n",
       "      <th>152713</th>\n",
       "      <td>X206124</td>\n",
       "      <td>TGNT4LT9CV</td>\n",
       "      <td>Y</td>\n",
       "      <td>2022-03-13</td>\n",
       "      <td>2023-03-31</td>\n",
       "      <td>13.0</td>\n",
       "      <td>30.0</td>\n",
       "    </tr>\n",
       "  </tbody>\n",
       "</table>\n",
       "<p>549 rows × 7 columns</p>\n",
       "</div>"
      ],
      "text/plain": [
       "       account_id     user_id redeemed date_created date_churned  \\\n",
       "77         X58903  SGC157IZ93        N   2022-02-14   2023-03-31   \n",
       "78         X58903  3176TGV9L4        N   2022-02-14   2023-03-31   \n",
       "79         X58903  NGV1PH47I3        N   2022-02-14   2023-03-31   \n",
       "80         X58903  O1V6UUQTHX        N   2022-02-14   2023-03-31   \n",
       "81         X58903  4QKWI7TQ84        N   2022-02-14   2023-03-31   \n",
       "...           ...         ...      ...          ...          ...   \n",
       "55666     X943863  LQ9E3F5DU1        N   2022-02-27   2023-03-31   \n",
       "144648    X417029  2O2L7DZ2TV        N   2022-03-12   2023-03-31   \n",
       "144649    X417029  Q9DY8BUO6S        N   2022-03-12   2023-03-31   \n",
       "144650    X417029  JV9BGIZAGB        N   2022-03-12   2023-03-31   \n",
       "152713    X206124  TGNT4LT9CV        Y   2022-03-13   2023-03-31   \n",
       "\n",
       "        active_months  revenue  \n",
       "77               13.0     39.0  \n",
       "78               13.0     39.0  \n",
       "79               13.0     39.0  \n",
       "80               13.0     39.0  \n",
       "81               13.0     39.0  \n",
       "...               ...      ...  \n",
       "55666            13.0     39.0  \n",
       "144648           13.0     39.0  \n",
       "144649           13.0     39.0  \n",
       "144650           13.0     39.0  \n",
       "152713           13.0     30.0  \n",
       "\n",
       "[549 rows x 7 columns]"
      ]
     },
     "execution_count": 40,
     "metadata": {},
     "output_type": "execute_result"
    }
   ],
   "source": [
    "df_1[df_1['date_churned']>'2023-03-14']"
   ]
  },
  {
   "cell_type": "code",
   "execution_count": 41,
   "id": "cf946bd7",
   "metadata": {},
   "outputs": [
    {
     "name": "stdout",
     "output_type": "stream",
     "text": [
      "Overall Retention Rate is 0.33%.\n"
     ]
    }
   ],
   "source": [
    "still_active_users = df_1[df_1['date_churned']=='2023-03-31']['user_id'].nunique()\n",
    "total_users = df_1['user_id'].nunique()\n",
    "overall_retention_rate = round((still_active_users*100)/total_users,2)\n",
    "print(f\"Overall Retention Rate is {overall_retention_rate}%.\")\n"
   ]
  },
  {
   "cell_type": "markdown",
   "id": "4911fc3e",
   "metadata": {},
   "source": [
    "### Retention Rate before campaign"
   ]
  },
  {
   "cell_type": "code",
   "execution_count": 42,
   "id": "3ca44cc4",
   "metadata": {},
   "outputs": [
    {
     "name": "stdout",
     "output_type": "stream",
     "text": [
      "The average retention time before the campaign began was 9 months.\n"
     ]
    }
   ],
   "source": [
    "retention_df_before_campaign = df_1[df_1['date_created']<'2022-02-28']\n",
    "avg_retention_time_before_campaigns = round(retention_df_before_campaign['active_months'].mean())\n",
    "print(f\"The average retention time before the campaign began was 9 months.\")"
   ]
  },
  {
   "cell_type": "code",
   "execution_count": 43,
   "id": "6e2c3341",
   "metadata": {},
   "outputs": [
    {
     "name": "stdout",
     "output_type": "stream",
     "text": [
      "Three month Retention Rate before the campaign began is 99.98%.\n"
     ]
    }
   ],
   "source": [
    "retention_df_before_campaign = df_1[df_1['date_created']<'2022-02-28']\n",
    "users_active_3_months = retention_df_before_campaign[retention_df_before_campaign['active_months']>3]['user_id'].nunique()\n",
    "total_users_before_campaign = retention_df_before_campaign['user_id'].nunique()\n",
    "three_month_retention_before_campaign = round((users_active_3_months*100)/total_users_before_campaign,2)\n",
    "print(f\"Three month Retention Rate before the campaign began is {three_month_retention_before_campaign}%.\")\n"
   ]
  },
  {
   "cell_type": "code",
   "execution_count": 44,
   "id": "9020aced",
   "metadata": {},
   "outputs": [
    {
     "name": "stdout",
     "output_type": "stream",
     "text": [
      "Six month Retention Rate before the campaign began is 95.11%.\n"
     ]
    }
   ],
   "source": [
    "retention_df_before_campaign = df_1[df_1['date_created']<'2022-02-28']\n",
    "users_active_6_months = retention_df_before_campaign[retention_df_before_campaign['active_months']>6]['user_id'].nunique()\n",
    "total_users_before_campaign = retention_df_before_campaign['user_id'].nunique()\n",
    "six_month_retention_before_campaign = round((users_active_6_months*100)/total_users_before_campaign,2)\n",
    "print(f\"Six month Retention Rate before the campaign began is {six_month_retention_before_campaign}%.\")\n"
   ]
  },
  {
   "cell_type": "code",
   "execution_count": 45,
   "id": "d5614c38",
   "metadata": {},
   "outputs": [
    {
     "name": "stdout",
     "output_type": "stream",
     "text": [
      "Nine month Retention Rate before the campaign began is 36.68%.\n"
     ]
    }
   ],
   "source": [
    "retention_df_before_campaign = df_1[df_1['date_created']<'2022-02-28']\n",
    "users_active_9_months = retention_df_before_campaign[retention_df_before_campaign['active_months']>9]['user_id'].nunique()\n",
    "total_users_before_campaign = retention_df_before_campaign['user_id'].nunique()\n",
    "nine_month_retention_before_campaign = round((users_active_9_months*100)/total_users_before_campaign,2)\n",
    "print(f\"Nine month Retention Rate before the campaign began is {nine_month_retention_before_campaign}%.\")\n"
   ]
  },
  {
   "cell_type": "code",
   "execution_count": 46,
   "id": "53e1b5e6",
   "metadata": {},
   "outputs": [
    {
     "name": "stdout",
     "output_type": "stream",
     "text": [
      "Twelve month Retention Rate before the campaign began is 0.98%.\n"
     ]
    }
   ],
   "source": [
    "retention_df_before_campaign = df_1[df_1['date_created']<'2022-02-28']\n",
    "users_active_12_months = retention_df_before_campaign[retention_df_before_campaign['active_months']>12]['user_id'].nunique()\n",
    "total_users_before_campaign = retention_df_before_campaign['user_id'].nunique()\n",
    "twelve_month_retention_before_campaign = round((users_active_12_months*100)/total_users_before_campaign,2)\n",
    "print(f\"Twelve month Retention Rate before the campaign began is {twelve_month_retention_before_campaign}%.\")\n"
   ]
  },
  {
   "cell_type": "markdown",
   "id": "1f507920",
   "metadata": {},
   "source": [
    "### Retention Rate after campaign for users who signed up using coupon"
   ]
  },
  {
   "cell_type": "code",
   "execution_count": 47,
   "id": "a4350406",
   "metadata": {},
   "outputs": [
    {
     "name": "stdout",
     "output_type": "stream",
     "text": [
      "The average retention time after the campaign and for the users who signed up using a coupon 6 months.\n"
     ]
    }
   ],
   "source": [
    "retention_df_after_campaign_coupon = df_1[(df_1['date_created']>'2022-02-28') & (df_1['redeemed']=='Y')]\n",
    "avg_retention_time_after_campaign_coupon = round(retention_df_after_campaign_coupon['active_months'].mean())\n",
    "print(f\"The average retention time after the campaign and for the users who signed up using a coupon {avg_retention_time_after_campaign_coupon} months.\")"
   ]
  },
  {
   "cell_type": "code",
   "execution_count": 48,
   "id": "354a962d",
   "metadata": {},
   "outputs": [
    {
     "name": "stdout",
     "output_type": "stream",
     "text": [
      "Three month Retention Rate after the campaign began for users who chose the coupon code to signup is 95.16%.\n"
     ]
    }
   ],
   "source": [
    "retention_df_after_campaign = df_1[(df_1['date_created']>'2022-02-28') & (df_1['redeemed']=='Y')]\n",
    "users_active_3_months = retention_df_after_campaign[retention_df_after_campaign['active_months']>3]['user_id'].nunique()\n",
    "total_users_after_campaign = retention_df_after_campaign['user_id'].nunique()\n",
    "three_month_retention_after_campaign = round((users_active_3_months*100)/total_users_before_campaign,2)\n",
    "print(f\"Three month Retention Rate after the campaign began for users who chose the coupon code to signup is {three_month_retention_after_campaign}%.\")\n",
    "    "
   ]
  },
  {
   "cell_type": "code",
   "execution_count": 49,
   "id": "8f895e7e",
   "metadata": {},
   "outputs": [
    {
     "name": "stdout",
     "output_type": "stream",
     "text": [
      "Six month Retention Rate after the campaign began for users who chose the coupon code to signup is 36.94%.\n"
     ]
    }
   ],
   "source": [
    "retention_df_after_campaign = df_1[(df_1['date_created']>'2022-02-28') & (df_1['redeemed']=='Y')]\n",
    "users_active_6_months = retention_df_after_campaign[retention_df_after_campaign['active_months']>6]['user_id'].nunique()\n",
    "total_users_after_campaign = retention_df_after_campaign['user_id'].nunique()\n",
    "six_month_retention_after_campaign = round((users_active_6_months*100)/total_users_before_campaign,2)\n",
    "print(f\"Six month Retention Rate after the campaign began for users who chose the coupon code to signup is {six_month_retention_after_campaign}%.\")\n",
    "    "
   ]
  },
  {
   "cell_type": "code",
   "execution_count": 50,
   "id": "79765b6a",
   "metadata": {},
   "outputs": [
    {
     "name": "stdout",
     "output_type": "stream",
     "text": [
      "Nine month Retention Rate after the campaign began for users who chose the coupon code to signup is 0.99%.\n"
     ]
    }
   ],
   "source": [
    "retention_df_after_campaign = df_1[(df_1['date_created']>'2022-02-28') & (df_1['redeemed']=='Y')]\n",
    "users_active_9_months = retention_df_after_campaign[retention_df_after_campaign['active_months']>9]['user_id'].nunique()\n",
    "total_users_after_campaign = retention_df_after_campaign['user_id'].nunique()\n",
    "nine_month_retention_after_campaign = round((users_active_9_months*100)/total_users_before_campaign,2)\n",
    "print(f\"Nine month Retention Rate after the campaign began for users who chose the coupon code to signup is {nine_month_retention_after_campaign}%.\")\n",
    "    "
   ]
  },
  {
   "cell_type": "code",
   "execution_count": 51,
   "id": "626ee0fa",
   "metadata": {},
   "outputs": [
    {
     "name": "stdout",
     "output_type": "stream",
     "text": [
      "Twelve month Retention Rate after the campaign began for users who chose the coupon code to signup is 0.0%.\n"
     ]
    }
   ],
   "source": [
    "retention_df_after_campaign = df_1[(df_1['date_created']>'2022-02-28') & (df_1['redeemed']=='Y')]\n",
    "users_active_12_months = retention_df_after_campaign[retention_df_after_campaign['active_months']>12]['user_id'].nunique()\n",
    "total_users_after_campaign = retention_df_after_campaign['user_id'].nunique()\n",
    "twelve_month_retention_after_campaign = round((users_active_12_months*100)/total_users_before_campaign,2)\n",
    "print(f\"Twelve month Retention Rate after the campaign began for users who chose the coupon code to signup is {twelve_month_retention_after_campaign}%.\")\n",
    "    "
   ]
  },
  {
   "cell_type": "markdown",
   "id": "693677b4",
   "metadata": {},
   "source": [
    "### Retention Rate after campaign for users who signed up without a coupon"
   ]
  },
  {
   "cell_type": "code",
   "execution_count": 52,
   "id": "a6cac250",
   "metadata": {},
   "outputs": [
    {
     "name": "stdout",
     "output_type": "stream",
     "text": [
      "The average retention time after the campaign and for the users who signed up without a coupon 6 months.\n"
     ]
    }
   ],
   "source": [
    "retention_df_after_campaign_with_no_coupon = df_1[(df_1['date_created']>'2022-02-28') & (df_1['redeemed']=='N')]\n",
    "avg_retention_time_after_campaign_with_no_coupon = round(retention_df_after_campaign_with_no_coupon['active_months'].mean())\n",
    "print(f\"The average retention time after the campaign and for the users who signed up without a coupon {avg_retention_time_after_campaign_with_no_coupon} months.\")"
   ]
  },
  {
   "cell_type": "code",
   "execution_count": 53,
   "id": "7c75f765",
   "metadata": {},
   "outputs": [
    {
     "name": "stdout",
     "output_type": "stream",
     "text": [
      "Three month Retention Rate after the campaign began for users who refrained from choosing the coupon code to signup is 96.54%.\n"
     ]
    }
   ],
   "source": [
    "retention_df_after_campaign_without_coupon = df_1[(df_1['date_created']>'2022-02-28') & (df_1['redeemed']=='N')]\n",
    "users_active_3_months_without_coupon  = retention_df_after_campaign_without_coupon[retention_df_after_campaign_without_coupon['active_months']>3]['user_id'].nunique()\n",
    "total_users_after_campaign = retention_df_after_campaign['user_id'].nunique()\n",
    "three_month_retention_after_campaign_without_coupon  = round((users_active_3_months_without_coupon*100)/total_users_before_campaign,2)\n",
    "print(f\"Three month Retention Rate after the campaign began for users who refrained from choosing the coupon code to signup is {three_month_retention_after_campaign_without_coupon}%.\")\n",
    "    "
   ]
  },
  {
   "cell_type": "code",
   "execution_count": 54,
   "id": "221f7cdf",
   "metadata": {},
   "outputs": [
    {
     "name": "stdout",
     "output_type": "stream",
     "text": [
      "Six month Retention Rate after the campaign began for users who refrained from choosing the coupon code to signup is 37.3%.\n"
     ]
    }
   ],
   "source": [
    "retention_df_after_campaign_without_coupon = df_1[(df_1['date_created']>'2022-02-28') & (df_1['redeemed']=='N')]\n",
    "users_active_6_months_without_coupon  = retention_df_after_campaign_without_coupon[retention_df_after_campaign_without_coupon['active_months']>6]['user_id'].nunique()\n",
    "total_users_after_campaign = retention_df_after_campaign['user_id'].nunique()\n",
    "six_month_retention_after_campaign_without_coupon  = round((users_active_6_months_without_coupon*100)/total_users_before_campaign,2)\n",
    "print(f\"Six month Retention Rate after the campaign began for users who refrained from choosing the coupon code to signup is {six_month_retention_after_campaign_without_coupon}%.\")\n",
    "    "
   ]
  },
  {
   "cell_type": "code",
   "execution_count": 55,
   "id": "e7ac7e26",
   "metadata": {},
   "outputs": [
    {
     "name": "stdout",
     "output_type": "stream",
     "text": [
      "Nine month Retention Rate after the campaign began for users who refrained from choosing the coupon code to signup is 1.02%.\n"
     ]
    }
   ],
   "source": [
    "retention_df_after_campaign_without_coupon = df_1[(df_1['date_created']>'2022-02-28') & (df_1['redeemed']=='N')]\n",
    "users_active_9_months_without_coupon  = retention_df_after_campaign_without_coupon[retention_df_after_campaign_without_coupon['active_months']>9]['user_id'].nunique()\n",
    "total_users_after_campaign = retention_df_after_campaign['user_id'].nunique()\n",
    "nine_month_retention_after_campaign_without_coupon  = round((users_active_9_months_without_coupon*100)/total_users_before_campaign,2)\n",
    "print(f\"Nine month Retention Rate after the campaign began for users who refrained from choosing the coupon code to signup is {nine_month_retention_after_campaign_without_coupon}%.\")\n",
    "    "
   ]
  },
  {
   "cell_type": "code",
   "execution_count": 56,
   "id": "eeef1722",
   "metadata": {},
   "outputs": [
    {
     "name": "stdout",
     "output_type": "stream",
     "text": [
      "Twelve month Retention Rate after the campaign began for users who refrained from choosing the coupon code to signup is 0.01%.\n"
     ]
    }
   ],
   "source": [
    "retention_df_after_campaign_without_coupon = df_1[(df_1['date_created']>'2022-02-28') & (df_1['redeemed']=='N')]\n",
    "users_active_12_months_without_coupon  = retention_df_after_campaign_without_coupon[retention_df_after_campaign_without_coupon['active_months']>12]['user_id'].nunique()\n",
    "total_users_after_campaign = retention_df_after_campaign['user_id'].nunique()\n",
    "twelve_month_retention_after_campaign_without_coupon  = round((users_active_12_months_without_coupon*100)/total_users_before_campaign,2)\n",
    "print(f\"Twelve month Retention Rate after the campaign began for users who refrained from choosing the coupon code to signup is {twelve_month_retention_after_campaign_without_coupon}%.\")\n",
    "    "
   ]
  },
  {
   "cell_type": "code",
   "execution_count": 83,
   "id": "cf723dcf",
   "metadata": {},
   "outputs": [
    {
     "data": {
      "text/html": [
       "<div>\n",
       "<style scoped>\n",
       "    .dataframe tbody tr th:only-of-type {\n",
       "        vertical-align: middle;\n",
       "    }\n",
       "\n",
       "    .dataframe tbody tr th {\n",
       "        vertical-align: top;\n",
       "    }\n",
       "\n",
       "    .dataframe thead th {\n",
       "        text-align: right;\n",
       "    }\n",
       "</style>\n",
       "<table border=\"1\" class=\"dataframe\">\n",
       "  <thead>\n",
       "    <tr style=\"text-align: right;\">\n",
       "      <th></th>\n",
       "      <th>retention_by_month</th>\n",
       "      <th>retention_rates_after_campaign_with_coupon</th>\n",
       "      <th>retention_rates_after_campaign_without_coupon</th>\n",
       "      <th>retention_rates_before_campaign</th>\n",
       "    </tr>\n",
       "  </thead>\n",
       "  <tbody>\n",
       "    <tr>\n",
       "      <th>0</th>\n",
       "      <td>Three Month</td>\n",
       "      <td>95.16</td>\n",
       "      <td>96.54</td>\n",
       "      <td>99.98</td>\n",
       "    </tr>\n",
       "    <tr>\n",
       "      <th>1</th>\n",
       "      <td>Six Month</td>\n",
       "      <td>36.94</td>\n",
       "      <td>37.30</td>\n",
       "      <td>95.11</td>\n",
       "    </tr>\n",
       "    <tr>\n",
       "      <th>2</th>\n",
       "      <td>Nine Month</td>\n",
       "      <td>0.99</td>\n",
       "      <td>1.02</td>\n",
       "      <td>36.68</td>\n",
       "    </tr>\n",
       "    <tr>\n",
       "      <th>3</th>\n",
       "      <td>Twelve Month</td>\n",
       "      <td>0.00</td>\n",
       "      <td>0.01</td>\n",
       "      <td>0.98</td>\n",
       "    </tr>\n",
       "  </tbody>\n",
       "</table>\n",
       "</div>"
      ],
      "text/plain": [
       "  retention_by_month  retention_rates_after_campaign_with_coupon  \\\n",
       "0        Three Month                                       95.16   \n",
       "1          Six Month                                       36.94   \n",
       "2         Nine Month                                        0.99   \n",
       "3       Twelve Month                                        0.00   \n",
       "\n",
       "   retention_rates_after_campaign_without_coupon  \\\n",
       "0                                          96.54   \n",
       "1                                          37.30   \n",
       "2                                           1.02   \n",
       "3                                           0.01   \n",
       "\n",
       "   retention_rates_before_campaign  \n",
       "0                            99.98  \n",
       "1                            95.11  \n",
       "2                            36.68  \n",
       "3                             0.98  "
      ]
     },
     "execution_count": 83,
     "metadata": {},
     "output_type": "execute_result"
    },
    {
     "data": {
      "text/plain": [
       "<Figure size 792x360 with 0 Axes>"
      ]
     },
     "metadata": {},
     "output_type": "display_data"
    }
   ],
   "source": [
    "d = {\n",
    "    'retention_by_month': ['Three Month', 'Six Month', 'Nine Month', 'Twelve Month'] , \n",
    "    'retention_rates_after_campaign_with_coupon': [three_month_retention_after_campaign, six_month_retention_after_campaign ,\n",
    "                               nine_month_retention_after_campaign , twelve_month_retention_after_campaign],\n",
    "    'retention_rates_after_campaign_without_coupon': [three_month_retention_after_campaign_without_coupon, six_month_retention_after_campaign_without_coupon,\n",
    "                               nine_month_retention_after_campaign_without_coupon, twelve_month_retention_after_campaign_without_coupon],\n",
    "    'retention_rates_before_campaign': [three_month_retention_before_campaign, six_month_retention_before_campaign,\n",
    "                              nine_month_retention_before_campaign, twelve_month_retention_before_campaign]\n",
    "    }\n",
    "\n",
    "plt.figure(figsize=(11,5))\n",
    "retention_df = pd.DataFrame(data=d)\n",
    "retention_df"
   ]
  },
  {
   "cell_type": "code",
   "execution_count": 86,
   "id": "f26e00ca",
   "metadata": {
    "scrolled": true
   },
   "outputs": [
    {
     "data": {
      "image/png": "[encoded data removed]",
      "text/plain": [
       "<Figure size 864x360 with 1 Axes>"
      ]
     },
     "metadata": {
      "needs_background": "light"
     },
     "output_type": "display_data"
    }
   ],
   "source": [
    "d = {\n",
    "    'retention_by_month': ['Three Month', 'Six Month', 'Nine Month', 'Twelve Month'] , \n",
    "    'retention_rates_after_campaign_with_coupon': [three_month_retention_after_campaign, six_month_retention_after_campaign ,\n",
    "                               nine_month_retention_after_campaign , twelve_month_retention_after_campaign],\n",
    "    'retention_rates_after_campaign_without_coupon': [three_month_retention_after_campaign_without_coupon, six_month_retention_after_campaign_without_coupon,\n",
    "                               nine_month_retention_after_campaign_without_coupon, twelve_month_retention_after_campaign_without_coupon],\n",
    "    'retention_rates_before_campaign': [three_month_retention_before_campaign, six_month_retention_before_campaign,\n",
    "                              nine_month_retention_before_campaign, twelve_month_retention_before_campaign]\n",
    "    }\n",
    "\n",
    "plt.figure(figsize=(12,5))\n",
    "retention_df = pd.DataFrame(data=d)\n",
    "retention_df = retention_df.melt(id_vars='retention_by_month', var_name='campaign', value_name='retention_rate',)\n",
    "sns.lineplot(data=retention_df, x='retention_by_month', y='retention_rate', hue='campaign',markers=True)\n",
    "plt.title('Retention Rates before and after campaign')\n",
    "plt.xlabel('Retention by Month')\n",
    "plt.ylabel('Retention Rates')\n",
    "plt.show()\n"
   ]
  },
  {
   "cell_type": "markdown",
   "id": "7f2bd12f",
   "metadata": {},
   "source": [
    "We can see that the curve for the users who singed in with coupon or without coupon is pretty much the same when chosen for the date after the campaign began, whereas the curve for the people signed up before the campaign is better "
   ]
  },
  {
   "cell_type": "markdown",
   "id": "8aefcf50",
   "metadata": {},
   "source": [
    "#### This means the retention rate for the users who signed in before the campaign tend to stay longed than the ones who signed in with coupons"
   ]
  },
  {
   "cell_type": "code",
   "execution_count": 81,
   "id": "1eadae01",
   "metadata": {},
   "outputs": [
    {
     "data": {
      "text/plain": [
       "<AxesSubplot:xlabel='date_churned', ylabel='revenue'>"
      ]
     },
     "execution_count": 81,
     "metadata": {},
     "output_type": "execute_result"
    },
    {
     "data": {
      "image/png": "[encoded data removed]",
      "text/plain": [
       "<Figure size 720x432 with 1 Axes>"
      ]
     },
     "metadata": {
      "needs_background": "light"
     },
     "output_type": "display_data"
    }
   ],
   "source": [
    "plt.figure(figsize=(10,6))\n",
    "sns.lineplot(x='date_churned',y='revenue',data=df_1,hue='redeemed')"
   ]
  },
  {
   "cell_type": "code",
   "execution_count": 59,
   "id": "ab7c604c",
   "metadata": {},
   "outputs": [
    {
     "data": {
      "text/plain": [
       "107289"
      ]
     },
     "execution_count": 59,
     "metadata": {},
     "output_type": "execute_result"
    }
   ],
   "source": [
    "average_monthly_revenue_before_campaign_df = df_1[df_1['date_created']<'2022-02-28']\n",
    "average_monthly_revenue_before_campaign_df = average_monthly_revenue_before_campaign_df.groupby('date_created')['revenue'].sum()\n",
    "average_monthly_revenue_before_campaign_df = round(average_monthly_revenue_before_campaign_df.mean())\n",
    "average_monthly_revenue_before_campaign_df"
   ]
  },
  {
   "cell_type": "code",
   "execution_count": 60,
   "id": "bc0170f5",
   "metadata": {},
   "outputs": [
    {
     "data": {
      "text/plain": [
       "35777"
      ]
     },
     "execution_count": 60,
     "metadata": {},
     "output_type": "execute_result"
    }
   ],
   "source": [
    "average_monthly_revenue_after_campaign_df = df_1[(df_1['date_created']>'2022-02-28') & (df_1['redeemed']=='Y')]\n",
    "average_monthly_revenue_after_campaign_df = average_monthly_revenue_after_campaign_df.groupby('date_created')['revenue'].sum()\n",
    "average_monthly_revenue_after_campaign_df = round(average_monthly_revenue_after_campaign_df.mean())\n",
    "average_monthly_revenue_after_campaign_df"
   ]
  },
  {
   "cell_type": "code",
   "execution_count": 61,
   "id": "6d2bdae8",
   "metadata": {},
   "outputs": [
    {
     "data": {
      "text/plain": [
       "70973"
      ]
     },
     "execution_count": 61,
     "metadata": {},
     "output_type": "execute_result"
    }
   ],
   "source": [
    "average_monthly_revenue_after_campaign_df_N = df_1[(df_1['date_created']>'2022-02-28') & (df_1['redeemed']=='N')]\n",
    "average_monthly_revenue_after_campaign_df_N = average_monthly_revenue_after_campaign_df_N.groupby('date_created')['revenue'].sum()\n",
    "average_monthly_revenue_after_campaign_df_N = round(average_monthly_revenue_after_campaign_df_N.mean())\n",
    "average_monthly_revenue_after_campaign_df_N"
   ]
  },
  {
   "cell_type": "code",
   "execution_count": 63,
   "id": "2d29462c",
   "metadata": {},
   "outputs": [
    {
     "data": {
      "text/plain": [
       "106750"
      ]
     },
     "execution_count": 63,
     "metadata": {},
     "output_type": "execute_result"
    }
   ],
   "source": [
    "entries = average_monthly_revenue_after_campaign_df + average_monthly_revenue_after_campaign_df_N"
   ]
  },
  {
   "cell_type": "code",
   "execution_count": 87,
   "id": "614d51d5",
   "metadata": {},
   "outputs": [
    {
     "data": {
      "text/plain": [
       "0.005"
      ]
     },
     "execution_count": 87,
     "metadata": {},
     "output_type": "execute_result"
    }
   ],
   "source": [
    "percent_decrease = round(1-(average_monthly_revenue_after_campaign_df + average_monthly_revenue_after_campaign_df_N)/\n",
    "                         (average_monthly_revenue_before_campaign_df),4)\n",
    "percent_decrease"
   ]
  },
  {
   "cell_type": "markdown",
   "id": "1ef631cd",
   "metadata": {},
   "source": [
    "#### As we can see the average revenue before the campaign and after the campaign decreased by 0.005% so the hypothesis that we had of enabling the campaign to increase the revenue and thus retention has not been fulfilled and this the campaign is not a success."
   ]
  },
  {
   "cell_type": "markdown",
   "id": "6a207cd2",
   "metadata": {},
   "source": [
    "### There are a certain reasons which might be possible of why certain things took place as they did:\n",
    "* People did not opt ot choose for the signup with coupon is to get the coupon there would a registartion process in place.\n",
    "* Also it might be possible that the process inplace might be a bit long which maybe annoyed customers.\n",
    "* People weren't willing to sign up as they might have a notion of getting their inbox bombarded with emails.\n",
    "* People who signed up before the campaing began tend ot stay longer as compared to the customers acquired from the campaign maybe they may be getting different service.\n",
    "* Maybe the load on the site (technical issues) was not so bad until after campaign began as we saw a count of the account_ids or user_ids doubled.\n",
    "* As we saw a rise in the user count to make the experience easy for customers we made some changes and the customers didn't like them.\n",
    "* It might also be possible that the customer service that we initially had with lesser number of customers was performing efficiently but when suddenly the count of the user_id rose then they were overwhelmed by the load and couldn't manage it resulting in a not so good customer service.\n",
    "\n"
   ]
  },
  {
   "cell_type": "markdown",
   "id": "fd5fef08",
   "metadata": {},
   "source": []
  },
  {
   "cell_type": "code",
   "execution_count": null,
   "id": "67a16d09",
   "metadata": {},
   "outputs": [],
   "source": []
  },
  {
   "cell_type": "code",
   "execution_count": null,
   "id": "759f2fad",
   "metadata": {},
   "outputs": [],
   "source": []
  }
 ],
 "metadata": {
  "kernelspec": {
   "display_name": "Python 3 (ipykernel)",
   "language": "python",
   "name": "python3"
  },
  "language_info": {
   "codemirror_mode": {
    "name": "ipython",
    "version": 3
   },
   "file_extension": ".py",
   "mimetype": "text/x-python",
   "name": "python",
   "nbconvert_exporter": "python",
   "pygments_lexer": "ipython3",
   "version": "3.9.12"
  }
 },
 "nbformat": 4,
 "nbformat_minor": 5
}
