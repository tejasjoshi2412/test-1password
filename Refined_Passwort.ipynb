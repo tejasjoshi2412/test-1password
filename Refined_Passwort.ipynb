{
 "cells": [
  {
   "cell_type": "markdown",
   "id": "051386f6",
   "metadata": {},
   "source": [
    "### Assumptions\n",
    "* There are some dates in the past and in the future\n",
    "\n",
    "* The dates in the past are for 1979-03-01, I 'm assuming this is a date entry mistake as the data is way back in the past.\n",
    "\n",
    "* For the future dates I'm assuming its a part of the hazard model or maybe predictions that have been made with respect to the churn date.\n",
    "\n",
    "* There are some null values in the redeemed columns so we are assuming they used the coupon code if the account creation date falls between the campaign duration.\n",
    "\n",
    "* We are also assuming that every account or user id that has been created after 2022-02-28 ????\n",
    "\n",
    "* Also I am assumimg that the campaign we ran was open to all people did see the coupon code but did no choose to signup using it, which will help us detemining the conversion_rate\n"
   ]
  },
  {
   "cell_type": "code",
   "execution_count": 81,
   "id": "c5ff3c2b",
   "metadata": {},
   "outputs": [],
   "source": [
    "import pandas as pd\n",
    "import numpy as np \n",
    "import seaborn as sns\n",
    "import matplotlib.pyplot as plt\n",
    "%matplotlib inline\n",
    "from datetime import datetime\n",
    "from datetime import date"
   ]
  },
  {
   "cell_type": "code",
   "execution_count": 82,
   "id": "55ae09b0",
   "metadata": {},
   "outputs": [
    {
     "data": {
      "text/html": [
       "<div>\n",
       "<style scoped>\n",
       "    .dataframe tbody tr th:only-of-type {\n",
       "        vertical-align: middle;\n",
       "    }\n",
       "\n",
       "    .dataframe tbody tr th {\n",
       "        vertical-align: top;\n",
       "    }\n",
       "\n",
       "    .dataframe thead th {\n",
       "        text-align: right;\n",
       "    }\n",
       "</style>\n",
       "<table border=\"1\" class=\"dataframe\">\n",
       "  <thead>\n",
       "    <tr style=\"text-align: right;\">\n",
       "      <th></th>\n",
       "      <th>account_id</th>\n",
       "      <th>user_id</th>\n",
       "      <th>redeemed</th>\n",
       "      <th>date_created</th>\n",
       "      <th>date_churned</th>\n",
       "    </tr>\n",
       "  </thead>\n",
       "  <tbody>\n",
       "    <tr>\n",
       "      <th>0</th>\n",
       "      <td>X547595</td>\n",
       "      <td>R6G74BVZGN</td>\n",
       "      <td>N</td>\n",
       "      <td>2022-02-14</td>\n",
       "      <td>2022-11-14</td>\n",
       "    </tr>\n",
       "    <tr>\n",
       "      <th>1</th>\n",
       "      <td>X704540</td>\n",
       "      <td>NOQ41G93C5</td>\n",
       "      <td>N</td>\n",
       "      <td>2022-02-14</td>\n",
       "      <td>2022-09-14</td>\n",
       "    </tr>\n",
       "    <tr>\n",
       "      <th>2</th>\n",
       "      <td>X704540</td>\n",
       "      <td>5RYIMD2OCJ</td>\n",
       "      <td>N</td>\n",
       "      <td>2022-02-14</td>\n",
       "      <td>2022-09-14</td>\n",
       "    </tr>\n",
       "    <tr>\n",
       "      <th>3</th>\n",
       "      <td>X704540</td>\n",
       "      <td>NL77S1PVEU</td>\n",
       "      <td>N</td>\n",
       "      <td>2022-02-14</td>\n",
       "      <td>2022-09-14</td>\n",
       "    </tr>\n",
       "    <tr>\n",
       "      <th>4</th>\n",
       "      <td>X704540</td>\n",
       "      <td>RMV8K34NXZ</td>\n",
       "      <td>N</td>\n",
       "      <td>2022-02-14</td>\n",
       "      <td>2022-09-14</td>\n",
       "    </tr>\n",
       "  </tbody>\n",
       "</table>\n",
       "</div>"
      ],
      "text/plain": [
       "  account_id     user_id redeemed date_created date_churned\n",
       "0    X547595  R6G74BVZGN        N   2022-02-14   2022-11-14\n",
       "1    X704540  NOQ41G93C5        N   2022-02-14   2022-09-14\n",
       "2    X704540  5RYIMD2OCJ        N   2022-02-14   2022-09-14\n",
       "3    X704540  NL77S1PVEU        N   2022-02-14   2022-09-14\n",
       "4    X704540  RMV8K34NXZ        N   2022-02-14   2022-09-14"
      ]
     },
     "execution_count": 82,
     "metadata": {},
     "output_type": "execute_result"
    }
   ],
   "source": [
    "data = pd.read_csv('marketing_analyst_test.csv')\n",
    "data.head()"
   ]
  },
  {
   "cell_type": "code",
   "execution_count": 83,
   "id": "008c9b31",
   "metadata": {},
   "outputs": [
    {
     "data": {
      "text/html": [
       "<div>\n",
       "<style scoped>\n",
       "    .dataframe tbody tr th:only-of-type {\n",
       "        vertical-align: middle;\n",
       "    }\n",
       "\n",
       "    .dataframe tbody tr th {\n",
       "        vertical-align: top;\n",
       "    }\n",
       "\n",
       "    .dataframe thead th {\n",
       "        text-align: right;\n",
       "    }\n",
       "</style>\n",
       "<table border=\"1\" class=\"dataframe\">\n",
       "  <thead>\n",
       "    <tr style=\"text-align: right;\">\n",
       "      <th></th>\n",
       "      <th>account_id</th>\n",
       "      <th>user_id</th>\n",
       "      <th>redeemed</th>\n",
       "      <th>date_created</th>\n",
       "      <th>date_churned</th>\n",
       "    </tr>\n",
       "  </thead>\n",
       "  <tbody>\n",
       "    <tr>\n",
       "      <th>0</th>\n",
       "      <td>X547595</td>\n",
       "      <td>R6G74BVZGN</td>\n",
       "      <td>N</td>\n",
       "      <td>2022-02-14</td>\n",
       "      <td>2022-11-14</td>\n",
       "    </tr>\n",
       "    <tr>\n",
       "      <th>1</th>\n",
       "      <td>X704540</td>\n",
       "      <td>NOQ41G93C5</td>\n",
       "      <td>N</td>\n",
       "      <td>2022-02-14</td>\n",
       "      <td>2022-09-14</td>\n",
       "    </tr>\n",
       "    <tr>\n",
       "      <th>2</th>\n",
       "      <td>X704540</td>\n",
       "      <td>5RYIMD2OCJ</td>\n",
       "      <td>N</td>\n",
       "      <td>2022-02-14</td>\n",
       "      <td>2022-09-14</td>\n",
       "    </tr>\n",
       "    <tr>\n",
       "      <th>3</th>\n",
       "      <td>X704540</td>\n",
       "      <td>NL77S1PVEU</td>\n",
       "      <td>N</td>\n",
       "      <td>2022-02-14</td>\n",
       "      <td>2022-09-14</td>\n",
       "    </tr>\n",
       "    <tr>\n",
       "      <th>4</th>\n",
       "      <td>X704540</td>\n",
       "      <td>RMV8K34NXZ</td>\n",
       "      <td>N</td>\n",
       "      <td>2022-02-14</td>\n",
       "      <td>2022-09-14</td>\n",
       "    </tr>\n",
       "  </tbody>\n",
       "</table>\n",
       "</div>"
      ],
      "text/plain": [
       "  account_id     user_id redeemed date_created date_churned\n",
       "0    X547595  R6G74BVZGN        N   2022-02-14   2022-11-14\n",
       "1    X704540  NOQ41G93C5        N   2022-02-14   2022-09-14\n",
       "2    X704540  5RYIMD2OCJ        N   2022-02-14   2022-09-14\n",
       "3    X704540  NL77S1PVEU        N   2022-02-14   2022-09-14\n",
       "4    X704540  RMV8K34NXZ        N   2022-02-14   2022-09-14"
      ]
     },
     "execution_count": 83,
     "metadata": {},
     "output_type": "execute_result"
    }
   ],
   "source": [
    "df = data.copy()\n",
    "df.head()"
   ]
  },
  {
   "cell_type": "code",
   "execution_count": 84,
   "id": "82a66a13",
   "metadata": {},
   "outputs": [],
   "source": [
    "df = df[(df['date_created']>'2022-02-11') & (df['date_created']<'2022-03-17')]"
   ]
  },
  {
   "cell_type": "markdown",
   "id": "7c3fa20d",
   "metadata": {},
   "source": [
    "## Total account_ids"
   ]
  },
  {
   "cell_type": "code",
   "execution_count": 85,
   "id": "e242497e",
   "metadata": {},
   "outputs": [
    {
     "name": "stdout",
     "output_type": "stream",
     "text": [
      "There are total 41128 account ids signed up.\n"
     ]
    }
   ],
   "source": [
    "total_account_ids = df['account_id'].nunique()\n",
    "print(f\"There are total {total_account_ids} account ids signed up.\")"
   ]
  },
  {
   "cell_type": "code",
   "execution_count": 86,
   "id": "4d7864ef",
   "metadata": {},
   "outputs": [
    {
     "name": "stdout",
     "output_type": "stream",
     "text": [
      "There are total 167781 user ids signed up.\n"
     ]
    }
   ],
   "source": [
    "total_user_ids = df['user_id'].nunique()\n",
    "print(f\"There are total {total_user_ids} user ids signed up.\")"
   ]
  },
  {
   "cell_type": "code",
   "execution_count": 87,
   "id": "118c2623",
   "metadata": {},
   "outputs": [
    {
     "name": "stdout",
     "output_type": "stream",
     "text": [
      "There are 13812 that were created using coupons.\n"
     ]
    }
   ],
   "source": [
    "accounts_with_coupon = df[df['redeemed'] == 'Y']['account_id'].nunique()\n",
    "print(f\"There are {accounts_with_coupon} that were created using coupons.\")"
   ]
  },
  {
   "cell_type": "code",
   "execution_count": 88,
   "id": "7cfded89",
   "metadata": {},
   "outputs": [
    {
     "name": "stdout",
     "output_type": "stream",
     "text": [
      "There are 549 accounts active as of now.\n"
     ]
    }
   ],
   "source": [
    "accounts_active = df['date_churned'].isna().sum()\n",
    "\n",
    "print(f\"There are {accounts_active} accounts active as of now.\")"
   ]
  },
  {
   "cell_type": "markdown",
   "id": "556ef1e7",
   "metadata": {},
   "source": [
    "### There are some entries of which date_churned is smaller than the date_created, so inorder to reduce or avoid any bias, I've decided that we edit the year to the concerning cell."
   ]
  },
  {
   "cell_type": "code",
   "execution_count": 96,
   "id": "c3491eae",
   "metadata": {},
   "outputs": [],
   "source": [
    "df['date_churned'].replace('2000-08-04','2022-08-04',inplace=True)"
   ]
  },
  {
   "cell_type": "markdown",
   "id": "d22c1d3e",
   "metadata": {},
   "source": [
    "## Hypothesis:\n",
    "#### * Null Hypothesis: After having ran the campaign we will increase the revenue generated and make the retention rate better.\n",
    "#### * Alternate Hypothesis: There won't be an increase or a significant increase in the revenue and the retention rate."
   ]
  },
  {
   "cell_type": "code",
   "execution_count": 99,
   "id": "b0b35818",
   "metadata": {},
   "outputs": [],
   "source": [
    "\n",
    "def calculate_churn_period(df):\n",
    "    # Convert 'created_date' and 'churn_date' columns to datetime format\n",
    "    df['date_created'] = pd.to_datetime(df['date_created'], errors='coerce')\n",
    "    df['date_churned'] = pd.to_datetime(df['date_churned'], errors='coerce')\n",
    "\n",
    "    # Calculate difference between 'churn_date' and 'created_date' in months\n",
    "    df['active_months'] = round(((df['date_churned'] - df['date_created']).dt.days / 30.436875).fillna(0))\n",
    "\n",
    "    return df\n",
    "\n",
    "df = calculate_churn_period(df)"
   ]
  },
  {
   "cell_type": "code",
   "execution_count": 376,
   "id": "75e3a04a",
   "metadata": {},
   "outputs": [
    {
     "name": "stdout",
     "output_type": "stream",
     "text": [
      "There are 13812 accounts created with coupons due to the campaign.\n"
     ]
    }
   ],
   "source": [
    "coupons_used_after_campaign = df[(df['redeemed'] == 'Y') & (df['date_created'] > '2022-02-28')]['account_id'].nunique()\n",
    "print(f\"There are {coupons_used_after_campaign} accounts created with coupons due to the campaign.\")"
   ]
  },
  {
   "cell_type": "code",
   "execution_count": 377,
   "id": "5b144bbf",
   "metadata": {},
   "outputs": [
    {
     "name": "stdout",
     "output_type": "stream",
     "text": [
      "There are 13983 accounts created without using coupons even during the campaign.\n"
     ]
    }
   ],
   "source": [
    "coupons_not_used_after_campaign = df[(df['redeemed'] == 'N') & (df['date_created'] > '2022-02-28')]['account_id'].nunique()\n",
    "print(f\"There are {coupons_not_used_after_campaign} accounts created without using coupons even during the campaign.\")"
   ]
  },
  {
   "cell_type": "code",
   "execution_count": 378,
   "id": "80cabef4",
   "metadata": {},
   "outputs": [
    {
     "name": "stdout",
     "output_type": "stream",
     "text": [
      "There are 0 accounts created with coupons before campaign was introduced.\n"
     ]
    }
   ],
   "source": [
    "coupons_used_before_campaign = df[(df['redeemed'] == 'Y') & (df['date_created'] < '2022-02-28')]['account_id'].nunique()\n",
    "print(f\"There are {coupons_used_before_campaign} accounts created with coupons before campaign was introduced.\")"
   ]
  },
  {
   "cell_type": "code",
   "execution_count": 379,
   "id": "37349b49",
   "metadata": {},
   "outputs": [
    {
     "name": "stdout",
     "output_type": "stream",
     "text": [
      "There are 13883 accounts created before the campaign.\n"
     ]
    }
   ],
   "source": [
    "coupons_not_used_before_campaign = df[(df['redeemed'] == 'N') & (df['date_created'] < '2022-02-28')]['account_id'].nunique()\n",
    "print(f\"There are {coupons_not_used_before_campaign} accounts created before the campaign.\")"
   ]
  },
  {
   "cell_type": "markdown",
   "id": "4e222f59",
   "metadata": {},
   "source": [
    "## Things to do:\n",
    "* analyse with nan and not nan values\n",
    "* frist mach nntr kiti aale\n",
    "* yes waalyancha churn\n",
    "* no walyancha churn\n",
    "* conversion rate\n"
   ]
  },
  {
   "cell_type": "code",
   "execution_count": 337,
   "id": "dc61de98",
   "metadata": {},
   "outputs": [
    {
     "data": {
      "text/plain": [
       "<AxesSubplot:xlabel='active_months'>"
      ]
     },
     "execution_count": 337,
     "metadata": {},
     "output_type": "execute_result"
    },
    {
     "data": {
      "image/png": "[encoded data removed]",
      "text/plain": [
       "<Figure size 864x288 with 1 Axes>"
      ]
     },
     "metadata": {
      "needs_background": "light"
     },
     "output_type": "display_data"
    }
   ],
   "source": [
    "plt.figure(figsize=(12,4))\n",
    "sns.boxplot(x=df['active_months'])"
   ]
  },
  {
   "cell_type": "code",
   "execution_count": 106,
   "id": "b5d54019",
   "metadata": {},
   "outputs": [
    {
     "name": "stdout",
     "output_type": "stream",
     "text": [
      "The average user age before it gets churned is 7 months\n"
     ]
    }
   ],
   "source": [
    "avg_user_age= df['active_months'].mean()\n",
    "print(f\"The average user age before it gets churned is {round(avg_user_age)} months\")"
   ]
  },
  {
   "cell_type": "code",
   "execution_count": 143,
   "id": "b7f0548c",
   "metadata": {},
   "outputs": [
    {
     "data": {
      "text/plain": [
       "Text(0, 0.5, 'daily users acquired')"
      ]
     },
     "execution_count": 143,
     "metadata": {},
     "output_type": "execute_result"
    },
    {
     "data": {
      "image/png": "[encoded data removed]",
      "text/plain": [
       "<Figure size 720x432 with 1 Axes>"
      ]
     },
     "metadata": {
      "needs_background": "light"
     },
     "output_type": "display_data"
    }
   ],
   "source": [
    "plt.figure(figsize=(10,6))\n",
    "df.groupby(['date_created'])['user_id'].nunique().plot()\n",
    "plt.title('Users sign up before and after campaign')\n",
    "plt.xlabel('date_created')\n",
    "plt.ylabel('daily users acquired')"
   ]
  },
  {
   "cell_type": "code",
   "execution_count": 304,
   "id": "043eebfe",
   "metadata": {},
   "outputs": [
    {
     "data": {
      "text/plain": [
       "Text(0, 0.5, 'Revenue by users churned')"
      ]
     },
     "execution_count": 304,
     "metadata": {},
     "output_type": "execute_result"
    },
    {
     "data": {
      "image/png": "[encoded data removed]",
      "text/plain": [
       "<Figure size 720x432 with 1 Axes>"
      ]
     },
     "metadata": {
      "needs_background": "light"
     },
     "output_type": "display_data"
    }
   ],
   "source": [
    "plt.figure(figsize=(10,6))\n",
    "df.groupby(['date_churned'])['user_id'].nunique().plot()\n",
    "plt.title('Users sign up before and after campaign')\n",
    "plt.xlabel('date_churned')\n",
    "plt.ylabel('Revenue by users churned')"
   ]
  },
  {
   "cell_type": "code",
   "execution_count": 108,
   "id": "2aaf85d8",
   "metadata": {},
   "outputs": [
    {
     "data": {
      "text/html": [
       "<div>\n",
       "<style scoped>\n",
       "    .dataframe tbody tr th:only-of-type {\n",
       "        vertical-align: middle;\n",
       "    }\n",
       "\n",
       "    .dataframe tbody tr th {\n",
       "        vertical-align: top;\n",
       "    }\n",
       "\n",
       "    .dataframe thead th {\n",
       "        text-align: right;\n",
       "    }\n",
       "</style>\n",
       "<table border=\"1\" class=\"dataframe\">\n",
       "  <thead>\n",
       "    <tr style=\"text-align: right;\">\n",
       "      <th></th>\n",
       "      <th>account_id</th>\n",
       "      <th>user_id</th>\n",
       "      <th>redeemed</th>\n",
       "      <th>date_created</th>\n",
       "      <th>date_churned</th>\n",
       "      <th>active_months</th>\n",
       "    </tr>\n",
       "  </thead>\n",
       "  <tbody>\n",
       "    <tr>\n",
       "      <th>6961</th>\n",
       "      <td>X821881</td>\n",
       "      <td>D121KIKWFB</td>\n",
       "      <td>NaN</td>\n",
       "      <td>2022-02-15</td>\n",
       "      <td>2022-10-15</td>\n",
       "      <td>8.0</td>\n",
       "    </tr>\n",
       "    <tr>\n",
       "      <th>33325</th>\n",
       "      <td>X695876</td>\n",
       "      <td>GULLX69NSQ</td>\n",
       "      <td>NaN</td>\n",
       "      <td>2022-02-22</td>\n",
       "      <td>2022-09-22</td>\n",
       "      <td>7.0</td>\n",
       "    </tr>\n",
       "    <tr>\n",
       "      <th>41424</th>\n",
       "      <td>X67849</td>\n",
       "      <td>46G3B46AQ1</td>\n",
       "      <td>NaN</td>\n",
       "      <td>2022-02-24</td>\n",
       "      <td>2022-11-24</td>\n",
       "      <td>9.0</td>\n",
       "    </tr>\n",
       "    <tr>\n",
       "      <th>77177</th>\n",
       "      <td>X100451</td>\n",
       "      <td>UANUNUGCS7</td>\n",
       "      <td>NaN</td>\n",
       "      <td>2022-03-03</td>\n",
       "      <td>2022-06-03</td>\n",
       "      <td>3.0</td>\n",
       "    </tr>\n",
       "    <tr>\n",
       "      <th>82990</th>\n",
       "      <td>X132705</td>\n",
       "      <td>Q3O84NKW8A</td>\n",
       "      <td>NaN</td>\n",
       "      <td>2022-03-04</td>\n",
       "      <td>2022-08-04</td>\n",
       "      <td>5.0</td>\n",
       "    </tr>\n",
       "    <tr>\n",
       "      <th>134446</th>\n",
       "      <td>X122845</td>\n",
       "      <td>7N48M1GSTQ</td>\n",
       "      <td>NaN</td>\n",
       "      <td>2022-03-10</td>\n",
       "      <td>2022-09-10</td>\n",
       "      <td>6.0</td>\n",
       "    </tr>\n",
       "    <tr>\n",
       "      <th>159758</th>\n",
       "      <td>X876324</td>\n",
       "      <td>19S6DAOVYB</td>\n",
       "      <td>NaN</td>\n",
       "      <td>2022-03-13</td>\n",
       "      <td>2022-10-13</td>\n",
       "      <td>7.0</td>\n",
       "    </tr>\n",
       "    <tr>\n",
       "      <th>167512</th>\n",
       "      <td>X14247</td>\n",
       "      <td>WX64ZPEE9X</td>\n",
       "      <td>NaN</td>\n",
       "      <td>2022-03-14</td>\n",
       "      <td>2022-08-14</td>\n",
       "      <td>5.0</td>\n",
       "    </tr>\n",
       "  </tbody>\n",
       "</table>\n",
       "</div>"
      ],
      "text/plain": [
       "       account_id     user_id redeemed date_created date_churned  \\\n",
       "6961      X821881  D121KIKWFB      NaN   2022-02-15   2022-10-15   \n",
       "33325     X695876  GULLX69NSQ      NaN   2022-02-22   2022-09-22   \n",
       "41424      X67849  46G3B46AQ1      NaN   2022-02-24   2022-11-24   \n",
       "77177     X100451  UANUNUGCS7      NaN   2022-03-03   2022-06-03   \n",
       "82990     X132705  Q3O84NKW8A      NaN   2022-03-04   2022-08-04   \n",
       "134446    X122845  7N48M1GSTQ      NaN   2022-03-10   2022-09-10   \n",
       "159758    X876324  19S6DAOVYB      NaN   2022-03-13   2022-10-13   \n",
       "167512     X14247  WX64ZPEE9X      NaN   2022-03-14   2022-08-14   \n",
       "\n",
       "        active_months  \n",
       "6961              8.0  \n",
       "33325             7.0  \n",
       "41424             9.0  \n",
       "77177             3.0  \n",
       "82990             5.0  \n",
       "134446            6.0  \n",
       "159758            7.0  \n",
       "167512            5.0  "
      ]
     },
     "execution_count": 108,
     "metadata": {},
     "output_type": "execute_result"
    }
   ],
   "source": [
    "df[df['redeemed'].isna()]"
   ]
  },
  {
   "cell_type": "code",
   "execution_count": 109,
   "id": "5eb358ef",
   "metadata": {},
   "outputs": [],
   "source": [
    "df['redeemed'] = df['redeemed'].replace(np.nan,'NAN')"
   ]
  },
  {
   "cell_type": "code",
   "execution_count": 110,
   "id": "155db826",
   "metadata": {},
   "outputs": [
    {
     "data": {
      "text/html": [
       "<div>\n",
       "<style scoped>\n",
       "    .dataframe tbody tr th:only-of-type {\n",
       "        vertical-align: middle;\n",
       "    }\n",
       "\n",
       "    .dataframe tbody tr th {\n",
       "        vertical-align: top;\n",
       "    }\n",
       "\n",
       "    .dataframe thead th {\n",
       "        text-align: right;\n",
       "    }\n",
       "</style>\n",
       "<table border=\"1\" class=\"dataframe\">\n",
       "  <thead>\n",
       "    <tr style=\"text-align: right;\">\n",
       "      <th></th>\n",
       "      <th>account_id</th>\n",
       "      <th>user_id</th>\n",
       "      <th>redeemed</th>\n",
       "      <th>date_created</th>\n",
       "      <th>date_churned</th>\n",
       "      <th>active_months</th>\n",
       "    </tr>\n",
       "  </thead>\n",
       "  <tbody>\n",
       "    <tr>\n",
       "      <th>6961</th>\n",
       "      <td>X821881</td>\n",
       "      <td>D121KIKWFB</td>\n",
       "      <td>NAN</td>\n",
       "      <td>2022-02-15</td>\n",
       "      <td>2022-10-15</td>\n",
       "      <td>8.0</td>\n",
       "    </tr>\n",
       "    <tr>\n",
       "      <th>33325</th>\n",
       "      <td>X695876</td>\n",
       "      <td>GULLX69NSQ</td>\n",
       "      <td>NAN</td>\n",
       "      <td>2022-02-22</td>\n",
       "      <td>2022-09-22</td>\n",
       "      <td>7.0</td>\n",
       "    </tr>\n",
       "    <tr>\n",
       "      <th>41424</th>\n",
       "      <td>X67849</td>\n",
       "      <td>46G3B46AQ1</td>\n",
       "      <td>NAN</td>\n",
       "      <td>2022-02-24</td>\n",
       "      <td>2022-11-24</td>\n",
       "      <td>9.0</td>\n",
       "    </tr>\n",
       "    <tr>\n",
       "      <th>77177</th>\n",
       "      <td>X100451</td>\n",
       "      <td>UANUNUGCS7</td>\n",
       "      <td>NAN</td>\n",
       "      <td>2022-03-03</td>\n",
       "      <td>2022-06-03</td>\n",
       "      <td>3.0</td>\n",
       "    </tr>\n",
       "    <tr>\n",
       "      <th>82990</th>\n",
       "      <td>X132705</td>\n",
       "      <td>Q3O84NKW8A</td>\n",
       "      <td>NAN</td>\n",
       "      <td>2022-03-04</td>\n",
       "      <td>2022-08-04</td>\n",
       "      <td>5.0</td>\n",
       "    </tr>\n",
       "    <tr>\n",
       "      <th>134446</th>\n",
       "      <td>X122845</td>\n",
       "      <td>7N48M1GSTQ</td>\n",
       "      <td>NAN</td>\n",
       "      <td>2022-03-10</td>\n",
       "      <td>2022-09-10</td>\n",
       "      <td>6.0</td>\n",
       "    </tr>\n",
       "    <tr>\n",
       "      <th>159758</th>\n",
       "      <td>X876324</td>\n",
       "      <td>19S6DAOVYB</td>\n",
       "      <td>NAN</td>\n",
       "      <td>2022-03-13</td>\n",
       "      <td>2022-10-13</td>\n",
       "      <td>7.0</td>\n",
       "    </tr>\n",
       "    <tr>\n",
       "      <th>167512</th>\n",
       "      <td>X14247</td>\n",
       "      <td>WX64ZPEE9X</td>\n",
       "      <td>NAN</td>\n",
       "      <td>2022-03-14</td>\n",
       "      <td>2022-08-14</td>\n",
       "      <td>5.0</td>\n",
       "    </tr>\n",
       "  </tbody>\n",
       "</table>\n",
       "</div>"
      ],
      "text/plain": [
       "       account_id     user_id redeemed date_created date_churned  \\\n",
       "6961      X821881  D121KIKWFB      NAN   2022-02-15   2022-10-15   \n",
       "33325     X695876  GULLX69NSQ      NAN   2022-02-22   2022-09-22   \n",
       "41424      X67849  46G3B46AQ1      NAN   2022-02-24   2022-11-24   \n",
       "77177     X100451  UANUNUGCS7      NAN   2022-03-03   2022-06-03   \n",
       "82990     X132705  Q3O84NKW8A      NAN   2022-03-04   2022-08-04   \n",
       "134446    X122845  7N48M1GSTQ      NAN   2022-03-10   2022-09-10   \n",
       "159758    X876324  19S6DAOVYB      NAN   2022-03-13   2022-10-13   \n",
       "167512     X14247  WX64ZPEE9X      NAN   2022-03-14   2022-08-14   \n",
       "\n",
       "        active_months  \n",
       "6961              8.0  \n",
       "33325             7.0  \n",
       "41424             9.0  \n",
       "77177             3.0  \n",
       "82990             5.0  \n",
       "134446            6.0  \n",
       "159758            7.0  \n",
       "167512            5.0  "
      ]
     },
     "execution_count": 110,
     "metadata": {},
     "output_type": "execute_result"
    }
   ],
   "source": [
    "df[df['redeemed']=='NAN']"
   ]
  },
  {
   "cell_type": "code",
   "execution_count": 111,
   "id": "d7ae263d",
   "metadata": {},
   "outputs": [],
   "source": [
    "before_date = pd.to_datetime('2022-02-28')\n",
    "\n",
    "def fill_redeem(colm):\n",
    "    redeem = colm[0]\n",
    "    created_date = colm[1]\n",
    "    if \"NAN\" in redeem and created_date < before_date:\n",
    "        redeem='N'\n",
    "        return redeem\n",
    "    else: \n",
    "        return redeem\n",
    "\n",
    "df['redeemed'] = df[['redeemed','date_created']].apply(fill_redeem,axis=1)"
   ]
  },
  {
   "cell_type": "markdown",
   "id": "80ebdb4a",
   "metadata": {},
   "source": [
    "There are nan values in the the dataframe for the column redeemed indicating if the user chose to signup using the coupon code or not. Now if we just assume that the user_id's signed up during the campaign period were created using the coupon codes and fill in the values accordingly then it'd be a very <b>*biased assumption*</b> in favour of the campaign and thus can make the metric skew a little bit.\n",
    "\n",
    "So I've decided to put these values aside and proceed with the dataset."
   ]
  },
  {
   "cell_type": "code",
   "execution_count": 375,
   "id": "31359560",
   "metadata": {},
   "outputs": [
    {
     "data": {
      "text/html": [
       "<div>\n",
       "<style scoped>\n",
       "    .dataframe tbody tr th:only-of-type {\n",
       "        vertical-align: middle;\n",
       "    }\n",
       "\n",
       "    .dataframe tbody tr th {\n",
       "        vertical-align: top;\n",
       "    }\n",
       "\n",
       "    .dataframe thead th {\n",
       "        text-align: right;\n",
       "    }\n",
       "</style>\n",
       "<table border=\"1\" class=\"dataframe\">\n",
       "  <thead>\n",
       "    <tr style=\"text-align: right;\">\n",
       "      <th></th>\n",
       "      <th>account_id</th>\n",
       "      <th>user_id</th>\n",
       "      <th>redeemed</th>\n",
       "      <th>date_created</th>\n",
       "      <th>date_churned</th>\n",
       "      <th>active_months</th>\n",
       "      <th>revenue</th>\n",
       "    </tr>\n",
       "  </thead>\n",
       "  <tbody>\n",
       "    <tr>\n",
       "      <th>0</th>\n",
       "      <td>X547595</td>\n",
       "      <td>R6G74BVZGN</td>\n",
       "      <td>N</td>\n",
       "      <td>2022-02-14</td>\n",
       "      <td>2022-11-14</td>\n",
       "      <td>9.0</td>\n",
       "      <td>27.0</td>\n",
       "    </tr>\n",
       "    <tr>\n",
       "      <th>1</th>\n",
       "      <td>X704540</td>\n",
       "      <td>NOQ41G93C5</td>\n",
       "      <td>N</td>\n",
       "      <td>2022-02-14</td>\n",
       "      <td>2022-09-14</td>\n",
       "      <td>7.0</td>\n",
       "      <td>21.0</td>\n",
       "    </tr>\n",
       "    <tr>\n",
       "      <th>2</th>\n",
       "      <td>X704540</td>\n",
       "      <td>5RYIMD2OCJ</td>\n",
       "      <td>N</td>\n",
       "      <td>2022-02-14</td>\n",
       "      <td>2022-09-14</td>\n",
       "      <td>7.0</td>\n",
       "      <td>21.0</td>\n",
       "    </tr>\n",
       "    <tr>\n",
       "      <th>3</th>\n",
       "      <td>X704540</td>\n",
       "      <td>NL77S1PVEU</td>\n",
       "      <td>N</td>\n",
       "      <td>2022-02-14</td>\n",
       "      <td>2022-09-14</td>\n",
       "      <td>7.0</td>\n",
       "      <td>21.0</td>\n",
       "    </tr>\n",
       "    <tr>\n",
       "      <th>4</th>\n",
       "      <td>X704540</td>\n",
       "      <td>RMV8K34NXZ</td>\n",
       "      <td>N</td>\n",
       "      <td>2022-02-14</td>\n",
       "      <td>2022-09-14</td>\n",
       "      <td>7.0</td>\n",
       "      <td>21.0</td>\n",
       "    </tr>\n",
       "    <tr>\n",
       "      <th>...</th>\n",
       "      <td>...</td>\n",
       "      <td>...</td>\n",
       "      <td>...</td>\n",
       "      <td>...</td>\n",
       "      <td>...</td>\n",
       "      <td>...</td>\n",
       "      <td>...</td>\n",
       "    </tr>\n",
       "    <tr>\n",
       "      <th>167810</th>\n",
       "      <td>X556715</td>\n",
       "      <td>7THM87WUAS</td>\n",
       "      <td>N</td>\n",
       "      <td>2022-03-14</td>\n",
       "      <td>2022-10-14</td>\n",
       "      <td>7.0</td>\n",
       "      <td>21.0</td>\n",
       "    </tr>\n",
       "    <tr>\n",
       "      <th>167811</th>\n",
       "      <td>X556715</td>\n",
       "      <td>LQOXYY42V8</td>\n",
       "      <td>N</td>\n",
       "      <td>2022-03-14</td>\n",
       "      <td>2022-10-14</td>\n",
       "      <td>7.0</td>\n",
       "      <td>21.0</td>\n",
       "    </tr>\n",
       "    <tr>\n",
       "      <th>167812</th>\n",
       "      <td>X556715</td>\n",
       "      <td>2IWJ1OPPEJ</td>\n",
       "      <td>N</td>\n",
       "      <td>2022-03-14</td>\n",
       "      <td>2022-10-14</td>\n",
       "      <td>7.0</td>\n",
       "      <td>21.0</td>\n",
       "    </tr>\n",
       "    <tr>\n",
       "      <th>167813</th>\n",
       "      <td>X556715</td>\n",
       "      <td>ISASLCXDEA</td>\n",
       "      <td>N</td>\n",
       "      <td>2022-03-14</td>\n",
       "      <td>2022-10-14</td>\n",
       "      <td>7.0</td>\n",
       "      <td>21.0</td>\n",
       "    </tr>\n",
       "    <tr>\n",
       "      <th>167814</th>\n",
       "      <td>X556715</td>\n",
       "      <td>SNRPWS9I5T</td>\n",
       "      <td>N</td>\n",
       "      <td>2022-03-14</td>\n",
       "      <td>2022-10-14</td>\n",
       "      <td>7.0</td>\n",
       "      <td>21.0</td>\n",
       "    </tr>\n",
       "  </tbody>\n",
       "</table>\n",
       "<p>167776 rows × 7 columns</p>\n",
       "</div>"
      ],
      "text/plain": [
       "       account_id     user_id redeemed date_created date_churned  \\\n",
       "0         X547595  R6G74BVZGN        N   2022-02-14   2022-11-14   \n",
       "1         X704540  NOQ41G93C5        N   2022-02-14   2022-09-14   \n",
       "2         X704540  5RYIMD2OCJ        N   2022-02-14   2022-09-14   \n",
       "3         X704540  NL77S1PVEU        N   2022-02-14   2022-09-14   \n",
       "4         X704540  RMV8K34NXZ        N   2022-02-14   2022-09-14   \n",
       "...           ...         ...      ...          ...          ...   \n",
       "167810    X556715  7THM87WUAS        N   2022-03-14   2022-10-14   \n",
       "167811    X556715  LQOXYY42V8        N   2022-03-14   2022-10-14   \n",
       "167812    X556715  2IWJ1OPPEJ        N   2022-03-14   2022-10-14   \n",
       "167813    X556715  ISASLCXDEA        N   2022-03-14   2022-10-14   \n",
       "167814    X556715  SNRPWS9I5T        N   2022-03-14   2022-10-14   \n",
       "\n",
       "        active_months  revenue  \n",
       "0                 9.0     27.0  \n",
       "1                 7.0     21.0  \n",
       "2                 7.0     21.0  \n",
       "3                 7.0     21.0  \n",
       "4                 7.0     21.0  \n",
       "...               ...      ...  \n",
       "167810            7.0     21.0  \n",
       "167811            7.0     21.0  \n",
       "167812            7.0     21.0  \n",
       "167813            7.0     21.0  \n",
       "167814            7.0     21.0  \n",
       "\n",
       "[167776 rows x 7 columns]"
      ]
     },
     "execution_count": 375,
     "metadata": {},
     "output_type": "execute_result"
    }
   ],
   "source": [
    "df_1 = df[df['redeemed']!='NAN']\n",
    "df_1"
   ]
  },
  {
   "cell_type": "markdown",
   "id": "6152e2b4",
   "metadata": {},
   "source": [
    "We can't as of now determine if the above mentioned user ids have used the coupon code to or not whereas the ones which were created before the campaign start date I have assumed it that they didn't have access to the coupon."
   ]
  },
  {
   "cell_type": "code",
   "execution_count": 345,
   "id": "efaf3a71",
   "metadata": {},
   "outputs": [
    {
     "name": "stderr",
     "output_type": "stream",
     "text": [
      "/var/folders/xj/yspv_kgs62q2d3qp8q_x3nt00000gr/T/ipykernel_27063/1694033356.py:17: SettingWithCopyWarning: \n",
      "A value is trying to be set on a copy of a slice from a DataFrame.\n",
      "Try using .loc[row_indexer,col_indexer] = value instead\n",
      "\n",
      "See the caveats in the documentation: https://pandas.pydata.org/pandas-docs/stable/user_guide/indexing.html#returning-a-view-versus-a-copy\n",
      "  df_1['revenue'] = df_1[['active_months','redeemed','date_created']].apply(revenue_generated,axis=1)\n"
     ]
    }
   ],
   "source": [
    "before_date = pd.to_datetime('2022-02-28')\n",
    "\n",
    "def revenue_generated(coloms):\n",
    "    active_months = coloms[0]\n",
    "    redeemed = coloms[1]\n",
    "    created_date = coloms[2]\n",
    "    if active_months <= 3:\n",
    "        sales = 0\n",
    "        return sales\n",
    "    elif redeemed == 'Y' and created_date > before_date:\n",
    "        sales = (active_months - 3) * 3\n",
    "        return sales\n",
    "    elif redeemed == 'N':\n",
    "        sales = active_months*3\n",
    "        return sales\n",
    "\n",
    "df_1['revenue'] = df_1[['active_months','redeemed','date_created']].apply(revenue_generated,axis=1)"
   ]
  },
  {
   "cell_type": "code",
   "execution_count": 346,
   "id": "4f4d8b11",
   "metadata": {},
   "outputs": [
    {
     "name": "stdout",
     "output_type": "stream",
     "text": [
      "The average revenue per user is $18.\n"
     ]
    }
   ],
   "source": [
    "avg_revenue_user = df_1['revenue'].sum()/df_1['user_id'].nunique()\n",
    "print(f\"The average revenue per user is ${round(avg_revenue_user)}.\")"
   ]
  },
  {
   "cell_type": "code",
   "execution_count": 347,
   "id": "5c8f7736",
   "metadata": {},
   "outputs": [
    {
     "data": {
      "text/plain": [
       "5870"
      ]
     },
     "execution_count": 347,
     "metadata": {},
     "output_type": "execute_result"
    }
   ],
   "source": [
    "df_1[df_1['active_months']<=3]['user_id'].nunique() # 3 mahine and tyachya khaali active "
   ]
  },
  {
   "cell_type": "code",
   "execution_count": 389,
   "id": "9521b4d8",
   "metadata": {},
   "outputs": [
    {
     "name": "stdout",
     "output_type": "stream",
     "text": [
      "There were 2710 number of user_id's that were active for less than 3 months so they enjoyed the promotion without being charged a penny.\n"
     ]
    }
   ],
   "source": [
    "three_months_and_less = df_1[(df_1['active_months']<=3) & (df_1['redeemed']=='Y')]['user_id'].nunique() # 3 mahine and tyachya khaali active\n",
    "print(f\"There were {three_months_and_less} number of user_id's that were active for less than 3 months so they enjoyed the promotion without being charged a penny.\")"
   ]
  },
  {
   "cell_type": "code",
   "execution_count": 398,
   "id": "d48011a8",
   "metadata": {},
   "outputs": [
    {
     "name": "stdout",
     "output_type": "stream",
     "text": [
      "The average revenue per user who signed up with a coupon is $8.99\n"
     ]
    }
   ],
   "source": [
    "avg_revenue_per_user_with_coupon = round(df_1[df_1['redeemed']=='Y']['revenue'].mean(),2) # Dollars\n",
    "print(f\"The average revenue per user who signed up with a coupon is ${avg_revenue_per_user_with_coupon}\")"
   ]
  },
  {
   "cell_type": "code",
   "execution_count": 399,
   "id": "b6d06d47",
   "metadata": {},
   "outputs": [
    {
     "name": "stdout",
     "output_type": "stream",
     "text": [
      "The average revenue per user who signed up without a coupon is $22.08\n"
     ]
    }
   ],
   "source": [
    "avg_revenue_per_user_without_coupon = round(df_1[df_1['redeemed']=='N']['revenue'].mean(),2) # Dollars\n",
    "print(f\"The average revenue per user who signed up without a coupon is ${avg_revenue_per_user_without_coupon}\")"
   ]
  },
  {
   "cell_type": "code",
   "execution_count": 400,
   "id": "78f2b154",
   "metadata": {},
   "outputs": [
    {
     "name": "stdout",
     "output_type": "stream",
     "text": [
      "The average duratin for which the user_id is active for a user signed up with coupon is 5.98 months\n"
     ]
    }
   ],
   "source": [
    "avg_active_duration_user_id_with_coupon = round(df_1[df_1['redeemed']=='Y']['active_months'].mean(),2) # Months\n",
    "print(f\"The average duratin for which the user_id is active for a user signed up with coupon is {avg_active_duration_user_id_with_coupon} months\")"
   ]
  },
  {
   "cell_type": "code",
   "execution_count": 401,
   "id": "d60799c8",
   "metadata": {},
   "outputs": [
    {
     "name": "stdout",
     "output_type": "stream",
     "text": [
      "The average duratin for which the user_id is active for a user signed up without coupon is 7.42 months\n"
     ]
    }
   ],
   "source": [
    "avg_active_duration_user_id_without_coupon = round(df_1[df_1['redeemed']=='N']['active_months'].mean(),2) # Months\n",
    "print(f\"The average duratin for which the user_id is active for a user signed up without coupon is {avg_active_duration_user_id_without_coupon} months\")"
   ]
  },
  {
   "cell_type": "markdown",
   "id": "1c679fbe",
   "metadata": {},
   "source": [
    "## Conversion Rate"
   ]
  },
  {
   "cell_type": "code",
   "execution_count": 348,
   "id": "b7d22be2",
   "metadata": {},
   "outputs": [
    {
     "name": "stdout",
     "output_type": "stream",
     "text": [
      "The conversion rate for the accounts created with coupons is 50.0%.\n"
     ]
    }
   ],
   "source": [
    "total_impressions = df_1[df_1['date_created']>'2022-02-28']['account_id'].nunique()\n",
    "converted_accounts = df_1[(df_1['date_created']>'2022-02-28') & (df_1['redeemed']=='Y')]['account_id'].nunique()\n",
    "conversion_rate = round((converted_accounts * 100)/total_impressions,2)\n",
    "print(f\"The conversion rate for the accounts created with coupons is {conversion_rate}%.\")"
   ]
  },
  {
   "cell_type": "markdown",
   "id": "e867d005",
   "metadata": {},
   "source": [
    "## Retention Rates"
   ]
  },
  {
   "cell_type": "code",
   "execution_count": 349,
   "id": "7cf8bbaf",
   "metadata": {},
   "outputs": [
    {
     "name": "stdout",
     "output_type": "stream",
     "text": [
      "Overall Retention Rate is 0.33%.\n"
     ]
    }
   ],
   "source": [
    "still_active_users = df_1[df_1['date_churned'].isna()]['user_id'].nunique()\n",
    "total_users = df_1['user_id'].nunique()\n",
    "overall_retention_rate = round((still_active_users*100)/total_users,2)\n",
    "print(f\"Overall Retention Rate is {overall_retention_rate}%.\")\n"
   ]
  },
  {
   "cell_type": "markdown",
   "id": "bd3924ac",
   "metadata": {},
   "source": [
    "### Retention Rate before campaign"
   ]
  },
  {
   "cell_type": "code",
   "execution_count": 350,
   "id": "b7b9dc81",
   "metadata": {},
   "outputs": [
    {
     "name": "stdout",
     "output_type": "stream",
     "text": [
      "The average retention time before the campaign began was 9 months.\n"
     ]
    }
   ],
   "source": [
    "retention_df_before_campaign = df_1[df_1['date_created']<'2022-02-28']\n",
    "avg_retention_time_before_campaigns = round(retention_df_before_campaign['active_months'].mean())\n",
    "print(f\"The average retention time before the campaign began was 9 months.\")"
   ]
  },
  {
   "cell_type": "code",
   "execution_count": 351,
   "id": "21223df8",
   "metadata": {},
   "outputs": [
    {
     "name": "stdout",
     "output_type": "stream",
     "text": [
      "Three month Retention Rate before the campaign began is 99.01%.\n"
     ]
    }
   ],
   "source": [
    "retention_df_before_campaign = df_1[df_1['date_created']<'2022-02-28']\n",
    "users_active_3_months = retention_df_before_campaign[retention_df_before_campaign['active_months']>3]['user_id'].nunique()\n",
    "total_users_before_campaign = retention_df_before_campaign['user_id'].nunique()\n",
    "three_month_retention_before_campaign = round((users_active_3_months*100)/total_users_before_campaign,2)\n",
    "print(f\"Three month Retention Rate before the campaign began is {three_month_retention_before_campaign}%.\")\n"
   ]
  },
  {
   "cell_type": "code",
   "execution_count": 352,
   "id": "0376a632",
   "metadata": {},
   "outputs": [
    {
     "name": "stdout",
     "output_type": "stream",
     "text": [
      "Six month Retention Rate before the campaign began is 94.13%.\n"
     ]
    }
   ],
   "source": [
    "retention_df_before_campaign = df_1[df_1['date_created']<'2022-02-28']\n",
    "users_active_6_months = retention_df_before_campaign[retention_df_before_campaign['active_months']>6]['user_id'].nunique()\n",
    "total_users_before_campaign = retention_df_before_campaign['user_id'].nunique()\n",
    "six_month_retention_before_campaign = round((users_active_6_months*100)/total_users_before_campaign,2)\n",
    "print(f\"Six month Retention Rate before the campaign began is {six_month_retention_before_campaign}%.\")\n"
   ]
  },
  {
   "cell_type": "code",
   "execution_count": 353,
   "id": "71c2111c",
   "metadata": {},
   "outputs": [
    {
     "name": "stdout",
     "output_type": "stream",
     "text": [
      "Nine month Retention Rate before the campaign began is 35.7%.\n"
     ]
    }
   ],
   "source": [
    "retention_df_before_campaign = df_1[df_1['date_created']<'2022-02-28']\n",
    "users_active_9_months = retention_df_before_campaign[retention_df_before_campaign['active_months']>9]['user_id'].nunique()\n",
    "total_users_before_campaign = retention_df_before_campaign['user_id'].nunique()\n",
    "nine_month_retention_before_campaign = round((users_active_9_months*100)/total_users_before_campaign,2)\n",
    "print(f\"Nine month Retention Rate before the campaign began is {nine_month_retention_before_campaign}%.\")\n"
   ]
  },
  {
   "cell_type": "code",
   "execution_count": 354,
   "id": "08060e18",
   "metadata": {},
   "outputs": [
    {
     "name": "stdout",
     "output_type": "stream",
     "text": [
      "Twelve month Retention Rate before the campaign began is 0.0%.\n"
     ]
    }
   ],
   "source": [
    "retention_df_before_campaign = df_1[df_1['date_created']<'2022-02-28']\n",
    "users_active_12_months = retention_df_before_campaign[retention_df_before_campaign['active_months']>12]['user_id'].nunique()\n",
    "total_users_before_campaign = retention_df_before_campaign['user_id'].nunique()\n",
    "twelve_month_retention_before_campaign = round((users_active_12_months*100)/total_users_before_campaign,2)\n",
    "print(f\"Twelve month Retention Rate before the campaign began is {twelve_month_retention_before_campaign}%.\")\n"
   ]
  },
  {
   "cell_type": "markdown",
   "id": "273838f9",
   "metadata": {},
   "source": [
    "### Retention Rate after campaign for users who signed up using coupon"
   ]
  },
  {
   "cell_type": "code",
   "execution_count": 358,
   "id": "23626134",
   "metadata": {},
   "outputs": [
    {
     "name": "stdout",
     "output_type": "stream",
     "text": [
      "The average retention time after the campaign and for the users who signed up using a coupon 6 months.\n"
     ]
    }
   ],
   "source": [
    "retention_df_after_campaign_coupon = df_1[(df_1['date_created']>'2022-02-28') & (df_1['redeemed']=='Y')]\n",
    "avg_retention_time_after_campaign_coupon = round(retention_df_after_campaign_coupon['active_months'].mean())\n",
    "print(f\"The average retention time after the campaign and for the users who signed up using a coupon {avg_retention_time_after_campaign_coupon} months.\")"
   ]
  },
  {
   "cell_type": "code",
   "execution_count": 359,
   "id": "d7bfd718",
   "metadata": {},
   "outputs": [
    {
     "name": "stdout",
     "output_type": "stream",
     "text": [
      "Three month Retention Rate after the campaign began for users who chose the coupon code to signup is 95.16%.\n"
     ]
    }
   ],
   "source": [
    "retention_df_after_campaign = df_1[(df_1['date_created']>'2022-02-28') & (df_1['redeemed']=='Y')]\n",
    "users_active_3_months = retention_df_after_campaign[retention_df_after_campaign['active_months']>3]['user_id'].nunique()\n",
    "total_users_after_campaign = retention_df_after_campaign['user_id'].nunique()\n",
    "three_month_retention_after_campaign = round((users_active_3_months*100)/total_users_before_campaign,2)\n",
    "print(f\"Three month Retention Rate after the campaign began for users who chose the coupon code to signup is {three_month_retention_after_campaign}%.\")\n",
    "    "
   ]
  },
  {
   "cell_type": "code",
   "execution_count": 360,
   "id": "b2e6c132",
   "metadata": {},
   "outputs": [
    {
     "name": "stdout",
     "output_type": "stream",
     "text": [
      "Six month Retention Rate after the campaign began for users who chose the coupon code to signup is 36.93%.\n"
     ]
    }
   ],
   "source": [
    "retention_df_after_campaign = df_1[(df_1['date_created']>'2022-02-28') & (df_1['redeemed']=='Y')]\n",
    "users_active_6_months = retention_df_after_campaign[retention_df_after_campaign['active_months']>6]['user_id'].nunique()\n",
    "total_users_after_campaign = retention_df_after_campaign['user_id'].nunique()\n",
    "six_month_retention_after_campaign = round((users_active_6_months*100)/total_users_before_campaign,2)\n",
    "print(f\"Six month Retention Rate after the campaign began for users who chose the coupon code to signup is {six_month_retention_after_campaign}%.\")\n",
    "    "
   ]
  },
  {
   "cell_type": "code",
   "execution_count": 361,
   "id": "5bb60406",
   "metadata": {},
   "outputs": [
    {
     "name": "stdout",
     "output_type": "stream",
     "text": [
      "Nine month Retention Rate after the campaign began for users who chose the coupon code to signup is 0.98%.\n"
     ]
    }
   ],
   "source": [
    "retention_df_after_campaign = df_1[(df_1['date_created']>'2022-02-28') & (df_1['redeemed']=='Y')]\n",
    "users_active_9_months = retention_df_after_campaign[retention_df_after_campaign['active_months']>9]['user_id'].nunique()\n",
    "total_users_after_campaign = retention_df_after_campaign['user_id'].nunique()\n",
    "nine_month_retention_after_campaign = round((users_active_9_months*100)/total_users_before_campaign,2)\n",
    "print(f\"Nine month Retention Rate after the campaign began for users who chose the coupon code to signup is {nine_month_retention_after_campaign}%.\")\n",
    "    "
   ]
  },
  {
   "cell_type": "code",
   "execution_count": 362,
   "id": "72db9f7c",
   "metadata": {},
   "outputs": [
    {
     "name": "stdout",
     "output_type": "stream",
     "text": [
      "Twelve month Retention Rate after the campaign began for users who chose the coupon code to signup is 0.0%.\n"
     ]
    }
   ],
   "source": [
    "retention_df_after_campaign = df_1[(df_1['date_created']>'2022-02-28') & (df_1['redeemed']=='Y')]\n",
    "users_active_12_months = retention_df_after_campaign[retention_df_after_campaign['active_months']>12]['user_id'].nunique()\n",
    "total_users_after_campaign = retention_df_after_campaign['user_id'].nunique()\n",
    "twelve_month_retention_after_campaign = round((users_active_12_months*100)/total_users_before_campaign,2)\n",
    "print(f\"Twelve month Retention Rate after the campaign began for users who chose the coupon code to signup is {twelve_month_retention_after_campaign}%.\")\n",
    "    "
   ]
  },
  {
   "cell_type": "markdown",
   "id": "8a34e1c0",
   "metadata": {},
   "source": [
    "### Retention Rate after campaign for users who signed up without a coupon"
   ]
  },
  {
   "cell_type": "code",
   "execution_count": 363,
   "id": "3ad53f75",
   "metadata": {},
   "outputs": [
    {
     "name": "stdout",
     "output_type": "stream",
     "text": [
      "The average retention time after the campaign and for the users who signed up without a coupon 6 months.\n"
     ]
    }
   ],
   "source": [
    "retention_df_after_campaign_with_no_coupon = df_1[(df_1['date_created']>'2022-02-28') & (df_1['redeemed']=='N')]\n",
    "avg_retention_time_after_campaign_with_no_coupon = round(retention_df_after_campaign_with_no_coupon['active_months'].mean())\n",
    "print(f\"The average retention time after the campaign and for the users who signed up without a coupon {avg_retention_time_after_campaign_with_no_coupon} months.\")"
   ]
  },
  {
   "cell_type": "code",
   "execution_count": 364,
   "id": "3b8ff671",
   "metadata": {},
   "outputs": [
    {
     "name": "stdout",
     "output_type": "stream",
     "text": [
      "Three month Retention Rate after the campaign began for users who refrained from choosing the coupon code to signup is 96.53%.\n"
     ]
    }
   ],
   "source": [
    "retention_df_after_campaign_without_coupon = df_1[(df_1['date_created']>'2022-02-28') & (df_1['redeemed']=='N')]\n",
    "users_active_3_months_without_coupon  = retention_df_after_campaign_without_coupon[retention_df_after_campaign_without_coupon['active_months']>3]['user_id'].nunique()\n",
    "total_users_after_campaign = retention_df_after_campaign['user_id'].nunique()\n",
    "three_month_retention_after_campaign_without_coupon  = round((users_active_3_months_without_coupon*100)/total_users_before_campaign,2)\n",
    "print(f\"Three month Retention Rate after the campaign began for users who refrained from choosing the coupon code to signup is {three_month_retention_after_campaign_without_coupon}%.\")\n",
    "    "
   ]
  },
  {
   "cell_type": "code",
   "execution_count": 365,
   "id": "624c0419",
   "metadata": {},
   "outputs": [
    {
     "name": "stdout",
     "output_type": "stream",
     "text": [
      "Six month Retention Rate after the campaign began for users who refrained from choosing the coupon code to signup is 37.3%.\n"
     ]
    }
   ],
   "source": [
    "retention_df_after_campaign_without_coupon = df_1[(df_1['date_created']>'2022-02-28') & (df_1['redeemed']=='N')]\n",
    "users_active_6_months_without_coupon  = retention_df_after_campaign_without_coupon[retention_df_after_campaign_without_coupon['active_months']>6]['user_id'].nunique()\n",
    "total_users_after_campaign = retention_df_after_campaign['user_id'].nunique()\n",
    "six_month_retention_after_campaign_without_coupon  = round((users_active_6_months_without_coupon*100)/total_users_before_campaign,2)\n",
    "print(f\"Six month Retention Rate after the campaign began for users who refrained from choosing the coupon code to signup is {six_month_retention_after_campaign_without_coupon}%.\")\n",
    "    "
   ]
  },
  {
   "cell_type": "code",
   "execution_count": 366,
   "id": "a586c216",
   "metadata": {},
   "outputs": [
    {
     "name": "stdout",
     "output_type": "stream",
     "text": [
      "Nine month Retention Rate after the campaign began for users who refrained from choosing the coupon code to signup is 1.02%.\n"
     ]
    }
   ],
   "source": [
    "retention_df_after_campaign_without_coupon = df_1[(df_1['date_created']>'2022-02-28') & (df_1['redeemed']=='N')]\n",
    "users_active_9_months_without_coupon  = retention_df_after_campaign_without_coupon[retention_df_after_campaign_without_coupon['active_months']>9]['user_id'].nunique()\n",
    "total_users_after_campaign = retention_df_after_campaign['user_id'].nunique()\n",
    "nine_month_retention_after_campaign_without_coupon  = round((users_active_9_months_without_coupon*100)/total_users_before_campaign,2)\n",
    "print(f\"Nine month Retention Rate after the campaign began for users who refrained from choosing the coupon code to signup is {nine_month_retention_after_campaign_without_coupon}%.\")\n",
    "    "
   ]
  },
  {
   "cell_type": "code",
   "execution_count": 367,
   "id": "d5dcc08a",
   "metadata": {},
   "outputs": [
    {
     "name": "stdout",
     "output_type": "stream",
     "text": [
      "Twelve month Retention Rate after the campaign began for users who refrained from choosing the coupon code to signup is 0.0%.\n"
     ]
    }
   ],
   "source": [
    "retention_df_after_campaign_without_coupon = df_1[(df_1['date_created']>'2022-02-28') & (df_1['redeemed']=='N')]\n",
    "users_active_12_months_without_coupon  = retention_df_after_campaign_without_coupon[retention_df_after_campaign_without_coupon['active_months']>12]['user_id'].nunique()\n",
    "total_users_after_campaign = retention_df_after_campaign['user_id'].nunique()\n",
    "twelve_month_retention_after_campaign_without_coupon  = round((users_active_12_months_without_coupon*100)/total_users_before_campaign,2)\n",
    "print(f\"Twelve month Retention Rate after the campaign began for users who refrained from choosing the coupon code to signup is {twelve_month_retention_after_campaign_without_coupon}%.\")\n",
    "    "
   ]
  },
  {
   "cell_type": "code",
   "execution_count": 368,
   "id": "40883731",
   "metadata": {},
   "outputs": [
    {
     "data": {
      "text/plain": [
       "Text(0.5, 1.0, 'Retention Rate for users with coupon vs without coupons')"
      ]
     },
     "execution_count": 368,
     "metadata": {},
     "output_type": "execute_result"
    },
    {
     "data": {
      "image/png": "[encoded data removed]",
      "text/plain": [
       "<Figure size 720x432 with 1 Axes>"
      ]
     },
     "metadata": {
      "needs_background": "light"
     },
     "output_type": "display_data"
    }
   ],
   "source": [
    "d = {\n",
    "    'retention_by_month': ['Three Month', 'Six Month', 'Nine Month', 'Twelve Month'] , \n",
    "    'retention_rates_after_campaign_with_coupon': [three_month_retention_after_campaign, six_month_retention_after_campaign ,\n",
    "                               nine_month_retention_after_campaign , twelve_month_retention_after_campaign],\n",
    "    'retention_rates_after_campaign_without_coupon': [three_month_retention_after_campaign_without_coupon, six_month_retention_after_campaign_without_coupon,\n",
    "                               nine_month_retention_after_campaign_without_coupon, twelve_month_retention_after_campaign_without_coupon],\n",
    "    'retention_rates_before_campaign': [three_month_retention_before_campaign, six_month_retention_before_campaign,\n",
    "                              nine_month_retention_before_campaign, twelve_month_retention_before_campaign]\n",
    "    }\n",
    "\n",
    "retention_df = pd.DataFrame(data=d)\n",
    "\n",
    "plt.figure(figsize=(10,6))\n",
    "sns.lineplot(data=retention_df[['retention_rates_after_campaign_with_coupon','retention_rates_after_campaign_without_coupon','retention_rates_before_campaign']])\n",
    "plt.title('Retention Rate for users with coupon vs without coupons')\n"
   ]
  },
  {
   "cell_type": "markdown",
   "id": "090fd785",
   "metadata": {},
   "source": [
    "We can see that the curve for the users who singed in with coupon or without coupon is pretty much the same when chosen for the date after the campaign began, whereas the curve for the people signed up before the campaign is better "
   ]
  },
  {
   "cell_type": "markdown",
   "id": "229d2e05",
   "metadata": {},
   "source": [
    "#### This means the retention rate for the users who signed in before the campaign tend to stay longed than the ones who signed in with coupons"
   ]
  },
  {
   "cell_type": "code",
   "execution_count": 369,
   "id": "06b41576",
   "metadata": {},
   "outputs": [
    {
     "data": {
      "text/plain": [
       "<AxesSubplot:xlabel='date_churned', ylabel='revenue'>"
      ]
     },
     "execution_count": 369,
     "metadata": {},
     "output_type": "execute_result"
    },
    {
     "data": {
      "image/png": "[encoded data removed]",
      "text/plain": [
       "<Figure size 720x432 with 1 Axes>"
      ]
     },
     "metadata": {
      "needs_background": "light"
     },
     "output_type": "display_data"
    }
   ],
   "source": [
    "plt.figure(figsize=(10,6))\n",
    "sns.lineplot(x='date_churned',y='revenue',data=df_1,hue='redeemed')"
   ]
  },
  {
   "cell_type": "code",
   "execution_count": 370,
   "id": "5728b861",
   "metadata": {},
   "outputs": [
    {
     "data": {
      "text/plain": [
       "105771"
      ]
     },
     "execution_count": 370,
     "metadata": {},
     "output_type": "execute_result"
    }
   ],
   "source": [
    "average_monthly_revenue_before_campaign_df = df_1[df_1['date_created']<'2022-02-28']\n",
    "average_monthly_revenue_before_campaign_df = average_monthly_revenue_before_campaign_df.groupby('date_created')['revenue'].sum()\n",
    "average_monthly_revenue_before_campaign_df = round(average_monthly_revenue_before_campaign_df.mean())\n",
    "average_monthly_revenue_before_campaign_df"
   ]
  },
  {
   "cell_type": "code",
   "execution_count": 371,
   "id": "b9ca3429",
   "metadata": {},
   "outputs": [
    {
     "data": {
      "text/plain": [
       "35775"
      ]
     },
     "execution_count": 371,
     "metadata": {},
     "output_type": "execute_result"
    }
   ],
   "source": [
    "average_monthly_revenue_after_campaign_df = df_1[(df_1['date_created']>'2022-02-28') & (df_1['redeemed']=='Y')]\n",
    "average_monthly_revenue_after_campaign_df = average_monthly_revenue_after_campaign_df.groupby('date_created')['revenue'].sum()\n",
    "average_monthly_revenue_after_campaign_df = round(average_monthly_revenue_after_campaign_df.mean())\n",
    "average_monthly_revenue_after_campaign_df"
   ]
  },
  {
   "cell_type": "code",
   "execution_count": 372,
   "id": "162df152",
   "metadata": {},
   "outputs": [
    {
     "data": {
      "text/plain": [
       "70965"
      ]
     },
     "execution_count": 372,
     "metadata": {},
     "output_type": "execute_result"
    }
   ],
   "source": [
    "average_monthly_revenue_after_campaign_df_N = df_1[(df_1['date_created']>'2022-02-28') & (df_1['redeemed']=='N')]\n",
    "average_monthly_revenue_after_campaign_df_N = average_monthly_revenue_after_campaign_df_N.groupby('date_created')['revenue'].sum()\n",
    "average_monthly_revenue_after_campaign_df_N = round(average_monthly_revenue_after_campaign_df_N.mean())\n",
    "average_monthly_revenue_after_campaign_df_N"
   ]
  },
  {
   "cell_type": "code",
   "execution_count": 373,
   "id": "7d9691af",
   "metadata": {},
   "outputs": [
    {
     "data": {
      "text/plain": [
       "0.0091"
      ]
     },
     "execution_count": 373,
     "metadata": {},
     "output_type": "execute_result"
    }
   ],
   "source": [
    "percent_increase = round(1-(average_monthly_revenue_before_campaign_df)/\n",
    "                         (average_monthly_revenue_after_campaign_df + average_monthly_revenue_after_campaign_df_N),4)\n",
    "percent_increase"
   ]
  },
  {
   "cell_type": "markdown",
   "id": "f3c17e64",
   "metadata": {},
   "source": [
    "###### As we can see the average revenue before the campaign and after the campaign did increase but by barest of margin (0.0091%) so the hypothesis that we had of enabling the campaign to increase the revenue and thus retention has not been fulfilled and this the campaign is not a success."
   ]
  },
  {
   "cell_type": "markdown",
   "id": "65d8c947",
   "metadata": {},
   "source": [
    "### There are a certain reasons which might be possible of why certain things took place as they did:\n",
    "* People did not opt ot choose for the signup with coupon is to get the coupon there would a registartion process in place.\n",
    "* Also it might be possible that the process inplace might be a bit long which maybe annoyed customers.\n",
    "* People weren't willing to sign up as they might have a notion of getting their inbox bombarded with emails.\n",
    "* People who signed up before the campaing began tend ot stay longer as compared to the customers acquired from the campaign maybe they may be getting different service.\n",
    "* Maybe the load on the site (technical issues) was not so bad until after campaign began as we saw a count of the account_ids or user_ids doubled.\n",
    "* As we saw a rise in the user count to make the experience easy for customers we made some changes and the customers didn't like them.\n",
    "* It might also be possible that the customer service that we initially had with lesser number of customers was performing efficiently but when suddenly the count of the user_id rose then they were overwhelmed by the load and couldn't manage it resulting in a not so good customer service.\n",
    "\n"
   ]
  },
  {
   "cell_type": "markdown",
   "id": "97b7e07f",
   "metadata": {},
   "source": []
  },
  {
   "cell_type": "code",
   "execution_count": null,
   "id": "0829812e",
   "metadata": {},
   "outputs": [],
   "source": []
  },
  {
   "cell_type": "code",
   "execution_count": null,
   "id": "32deb354",
   "metadata": {},
   "outputs": [],
   "source": []
  }
 ],
 "metadata": {
  "kernelspec": {
   "display_name": "Python 3 (ipykernel)",
   "language": "python",
   "name": "python3"
  },
  "language_info": {
   "codemirror_mode": {
    "name": "ipython",
    "version": 3
   },
   "file_extension": ".py",
   "mimetype": "text/x-python",
   "name": "python",
   "nbconvert_exporter": "python",
   "pygments_lexer": "ipython3",
   "version": "3.9.12"
  }
 },
 "nbformat": 4,
 "nbformat_minor": 5
}
